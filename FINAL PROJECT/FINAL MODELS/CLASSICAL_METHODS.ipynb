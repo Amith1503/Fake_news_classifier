{
  "nbformat": 4,
  "nbformat_minor": 0,
  "metadata": {
    "colab": {
      "name": "CLASSICAL METHODS.ipynb",
      "provenance": [],
      "collapsed_sections": [
        "t0OlV-jfLe97"
      ]
    },
    "kernelspec": {
      "name": "python3",
      "display_name": "Python 3"
    }
  },
  "cells": [
    {
      "cell_type": "code",
      "metadata": {
        "id": "HlLcucseo_q8",
        "colab_type": "code",
        "colab": {
          "base_uri": "https://localhost:8080/",
          "height": 122
        },
        "outputId": "1cfd5cec-4a09-42d0-ef33-167598f2a8d4"
      },
      "source": [
        "from google.colab import drive\n",
        "drive.mount('/content/drive')\n"
      ],
      "execution_count": null,
      "outputs": [
        {
          "output_type": "stream",
          "text": [
            "Go to this URL in a browser: https://accounts.google.com/o/oauth2/auth?client_id=947318989803-6bn6qk8qdgf4n4g3pfee6491hc0brc4i.apps.googleusercontent.com&redirect_uri=urn%3aietf%3awg%3aoauth%3a2.0%3aoob&response_type=code&scope=email%20https%3a%2f%2fwww.googleapis.com%2fauth%2fdocs.test%20https%3a%2f%2fwww.googleapis.com%2fauth%2fdrive%20https%3a%2f%2fwww.googleapis.com%2fauth%2fdrive.photos.readonly%20https%3a%2f%2fwww.googleapis.com%2fauth%2fpeopleapi.readonly\n",
            "\n",
            "Enter your authorization code:\n",
            "··········\n",
            "Mounted at /content/drive\n"
          ],
          "name": "stdout"
        }
      ]
    },
    {
      "cell_type": "code",
      "metadata": {
        "id": "6xbFUZndpBQ7",
        "colab_type": "code",
        "colab": {
          "base_uri": "https://localhost:8080/",
          "height": 85
        },
        "outputId": "59999a84-cafb-4e29-9f1b-2381e5a5a303"
      },
      "source": [
        "import pandas as pd \n",
        "import gensim\n",
        "import numpy as np\n",
        "import pandas as pd\n",
        "import os\n",
        "import re\n",
        "import csv\n",
        "import codecs\n",
        "import sys\n",
        "import pickle\n",
        "from csv import DictReader\n",
        "\n",
        "# from utils.dataset import DataSet\n",
        "from keras.preprocessing.text import Tokenizer\n",
        "from keras.preprocessing.sequence import pad_sequences\n",
        "from keras.layers import Embedding,LSTM, Dense\n",
        "from keras.models import Sequential\n",
        "import nltk\n",
        "\n",
        "nltk.download('punkt')\n",
        "nltk.download('wordnet')\n",
        "\n",
        "\n",
        "\n",
        "from gensim.scripts.glove2word2vec import glove2word2vec\n",
        "from gensim.models import KeyedVectors\n",
        "from sklearn.model_selection import train_test_split\n",
        "from numpy import zeros\n",
        "\n",
        "from keras import callbacks\n",
        "from keras import optimizers\n",
        "from keras.models import Sequential, Model\n",
        "from keras.layers import Input, Dense, LSTM, Embedding, Dropout, BatchNormalization, Activation, Bidirectional,Flatten\n",
        "from keras.layers.merge import concatenate\n",
        "from keras.layers.normalization import BatchNormalization\n",
        "from keras.preprocessing.text import text_to_word_sequence, Tokenizer\n",
        "from keras.preprocessing.sequence import pad_sequences\n",
        "\n",
        "import matplotlib as mpl\n",
        "%matplotlib inline\n",
        "from matplotlib import pyplot as plt\n",
        "from keras.utils import plot_model \n",
        "from IPython.display import Image\n",
        "# import pydot\n",
        "from sklearn.preprocessing import LabelEncoder\n",
        "from keras.utils import np_utils\n",
        "import tensorflow as tf\n",
        "\n",
        "from numpy import asarray\n",
        "from nltk.corpus import stopwords\n",
        "from nltk.stem import SnowballStemmer\n",
        "\n",
        "from string import punctuation\n",
        "\n",
        "from keras import backend as K\n",
        "from keras.engine.topology import Layer\n",
        "#from keras import initializations\n",
        "from keras import initializers, regularizers, constraints"
      ],
      "execution_count": null,
      "outputs": [
        {
          "output_type": "stream",
          "text": [
            "[nltk_data] Downloading package punkt to /root/nltk_data...\n",
            "[nltk_data]   Unzipping tokenizers/punkt.zip.\n",
            "[nltk_data] Downloading package wordnet to /root/nltk_data...\n",
            "[nltk_data]   Unzipping corpora/wordnet.zip.\n"
          ],
          "name": "stdout"
        }
      ]
    },
    {
      "cell_type": "code",
      "metadata": {
        "id": "d5cLW4HlpLTl",
        "colab_type": "code",
        "colab": {
          "base_uri": "https://localhost:8080/",
          "height": 238
        },
        "outputId": "e0795e06-35ec-4353-f3d2-db48d46bd338"
      },
      "source": [
        "#Adapted from https://github.com/FakeNewsChallenge/fnc-1/blob/master/scorer.py\n",
        "#Original credit - @bgalbraith\n",
        "\n",
        "LABELS = ['agree', 'disagree', 'discuss', 'unrelated']\n",
        "LABELS_RELATED = ['unrelated','related']\n",
        "RELATED = LABELS[0:3]\n",
        "\n",
        "def score_submission(gold_labels, test_labels):\n",
        "    score = 0.0\n",
        "    cm = [[0, 0, 0, 0],\n",
        "          [0, 0, 0, 0],\n",
        "          [0, 0, 0, 0],\n",
        "          [0, 0, 0, 0]]\n",
        "\n",
        "    for i, (g, t) in enumerate(zip(gold_labels, test_labels)):\n",
        "        g_stance, t_stance = g, t\n",
        "        if g_stance == t_stance:\n",
        "            score += 0.25\n",
        "            if g_stance != 'unrelated':\n",
        "                score += 0.50\n",
        "        if g_stance in RELATED and t_stance in RELATED:\n",
        "            score += 0.25\n",
        "\n",
        "        cm[LABELS.index(g_stance)][LABELS.index(t_stance)] += 1\n",
        "\n",
        "    return score, cm\n",
        "\n",
        "\n",
        "def print_confusion_matrix(cm):\n",
        "    lines = []\n",
        "    header = \"|{:^11}|{:^11}|{:^11}|{:^11}|{:^11}|\".format('', *LABELS)\n",
        "    line_len = len(header)\n",
        "    lines.append(\"-\"*line_len)\n",
        "    lines.append(header)\n",
        "    lines.append(\"-\"*line_len)\n",
        "\n",
        "    hit = 0\n",
        "    total = 0\n",
        "    for i, row in enumerate(cm):\n",
        "        hit += row[i]\n",
        "        total += sum(row)\n",
        "        lines.append(\"|{:^11}|{:^11}|{:^11}|{:^11}|{:^11}|\".format(LABELS[i],\n",
        "                                                                   *row))\n",
        "        lines.append(\"-\"*line_len)\n",
        "    print('\\n'.join(lines))\n",
        "\n",
        "\n",
        "def report_score(actual,predicted):\n",
        "    score,cm = score_submission(actual,predicted)\n",
        "    print(\"Score\",score)\n",
        "    best_score, _ = score_submission(actual,actual)\n",
        "    # print(\"best_Score\",best_score)\n",
        "\n",
        "    print_confusion_matrix(cm)\n",
        "    print(\"Score: \" +str(score) + \" out of \" + str(best_score) + \"\\t(\"+str(score*100/best_score) + \"%)\")\n",
        "    return score*100/best_score\n",
        "\n",
        "\n",
        "if __name__ == \"__main__\":\n",
        "    actual = [0,0,0,0,1,1,0,3,3]\n",
        "    predicted = [0,0,0,0,1,1,2,3,3]\n",
        "\n",
        "    report_score([LABELS[e] for e in actual],[LABELS[e] for e in predicted])"
      ],
      "execution_count": null,
      "outputs": [
        {
          "output_type": "stream",
          "text": [
            "Score 6.75\n",
            "-------------------------------------------------------------\n",
            "|           |   agree   | disagree  |  discuss  | unrelated |\n",
            "-------------------------------------------------------------\n",
            "|   agree   |     4     |     0     |     1     |     0     |\n",
            "-------------------------------------------------------------\n",
            "| disagree  |     0     |     2     |     0     |     0     |\n",
            "-------------------------------------------------------------\n",
            "|  discuss  |     0     |     0     |     0     |     0     |\n",
            "-------------------------------------------------------------\n",
            "| unrelated |     0     |     0     |     0     |     2     |\n",
            "-------------------------------------------------------------\n",
            "Score: 6.75 out of 7.5\t(90.0%)\n"
          ],
          "name": "stdout"
        }
      ]
    },
    {
      "cell_type": "code",
      "metadata": {
        "id": "vmSD4bAVpNJJ",
        "colab_type": "code",
        "colab": {}
      },
      "source": [
        "class DataSet():\n",
        "    def __init__(self, name=\"train\", path=\"./data\"):\n",
        "        self.path = path\n",
        "\n",
        "        print(\"Reading dataset\")\n",
        "        bodies = name+\"_bodies.csv\"\n",
        "        stances = name+\"_stances.csv\"\n",
        "\n",
        "        self.stances = self.read(stances)\n",
        "        articles = self.read(bodies)\n",
        "        self.articles = dict()\n",
        "\n",
        "        #make the body ID an integer value\n",
        "        for s in self.stances:\n",
        "            s['Body ID'] = int(s['Body ID'])\n",
        "\n",
        "        #copy all bodies into a dictionary\n",
        "        for article in articles:\n",
        "            self.articles[int(article['Body ID'])] = article['articleBody']\n",
        "\n",
        "        print(\"Total stances: \" + str(len(self.stances)))\n",
        "        print(\"Total bodies: \" + str(len(self.articles)))\n",
        "\n",
        "\n",
        "\n",
        "    def read(self,filename):\n",
        "        rows = []\n",
        "        with open(self.path + \"/\" + filename, \"r\", encoding='utf-8') as table:\n",
        "            r = DictReader(table)\n",
        "\n",
        "            for line in r:\n",
        "                rows.append(line)\n",
        "        return rows\n"
      ],
      "execution_count": null,
      "outputs": []
    },
    {
      "cell_type": "code",
      "metadata": {
        "id": "ARdbXjEbpQQq",
        "colab_type": "code",
        "colab": {}
      },
      "source": [
        "def generate_features(stances,dataset):\n",
        "    h, b, y = [],[],[]\n",
        "    LABELS = ['agree', 'disagree', 'discuss', 'unrelated']\n",
        "    for stance in stances:\n",
        "\n",
        "        # print(stance['Stance'])\n",
        "        y.append(LABELS.index(stance['Stance']))\n",
        "        h.append(stance['Headline'])\n",
        "        b.append(dataset.articles[stance['Body ID']])\n",
        "   \n",
        "\n",
        "    return(h,b,y)\n"
      ],
      "execution_count": null,
      "outputs": []
    },
    {
      "cell_type": "code",
      "metadata": {
        "id": "k-JnxMXCLmNi",
        "colab_type": "code",
        "colab": {
          "base_uri": "https://localhost:8080/",
          "height": 85
        },
        "outputId": "157a6765-f115-4587-955f-7d24750eafab"
      },
      "source": [
        "import sys\n",
        "import numpy as np\n",
        "\n",
        "# from sklearn.ensemble import GradientBoostingClassifier\n",
        "# from feature_engineering import refuting_features, polarity_features, hand_features, gen_or_load_feats\n",
        "# from feature_engineering import word_overlap_features\n",
        "# from utils.dataset import DataSet\n",
        "# from utils.generate_test_splits import kfold_split, get_stances_for_folds\n",
        "# from utils.score import report_score, LABELS, score_submission\n",
        "\n",
        "# from utils.system import parse_params, check_version\n",
        "def generate_features_new(stances,dataset,name):\n",
        "    h, b, y = [],[],[]\n",
        "\n",
        "    for stance in stances:\n",
        "        y.append(LABELS.index(stance['Stance']))\n",
        "        h.append(stance['Headline'])\n",
        "        b.append(dataset.articles[stance['Body ID']])\n",
        "\n",
        "    return y\n",
        "  \n",
        "\n",
        "competition_dataset = DataSet(\"competition_test\")\n",
        "y_competition = generate_features_new(competition_dataset.stances, competition_dataset, \"competition\")\n",
        "\n",
        "Xs = dict()\n",
        "ys = dict()\n",
        "\n",
        "# Load/Precompute all features now\n",
        "#Run on competition dataset\n",
        "actual = [LABELS[int(a)] for a in y_competition]\n",
        "# predict_1= [LABELS[int(a)] for a in y_DT]\n",
        "\n",
        "\n",
        "print(\"Scores on the test set\")\n",
        "# report_score(actual,predict_1)"
      ],
      "execution_count": null,
      "outputs": [
        {
          "output_type": "stream",
          "text": [
            "Reading dataset\n",
            "Total stances: 25413\n",
            "Total bodies: 904\n",
            "Scores on the test set\n"
          ],
          "name": "stdout"
        }
      ]
    },
    {
      "cell_type": "code",
      "metadata": {
        "id": "aicFFYo_pSAs",
        "colab_type": "code",
        "colab": {
          "base_uri": "https://localhost:8080/",
          "height": 68
        },
        "outputId": "e82eda80-b877-4928-d5db-6ca717dfd0ce"
      },
      "source": [
        "d=DataSet()\n",
        "h,b,y= generate_features(d.stances,d)\n",
        "\n",
        "combined_list = [list(x) for x in zip(h, b,y)]\n",
        "\n",
        "combine_df_train=pd.DataFrame(combined_list,columns = [\"Headline\",\"articleBody\",\"Stances\"])\n",
        "combine_df_train.to_csv(\"./data/combined_list_1.csv\")\n",
        "\n"
      ],
      "execution_count": null,
      "outputs": [
        {
          "output_type": "stream",
          "text": [
            "Reading dataset\n",
            "Total stances: 49972\n",
            "Total bodies: 1683\n"
          ],
          "name": "stdout"
        }
      ]
    },
    {
      "cell_type": "code",
      "metadata": {
        "id": "ADnTmR34pTdV",
        "colab_type": "code",
        "colab": {
          "base_uri": "https://localhost:8080/",
          "height": 68
        },
        "outputId": "88bc075d-e133-44b0-ab24-6062990bc7a6"
      },
      "source": [
        "competition_dataset = DataSet(\"competition_test\")\n",
        "h_test,b_test,y_test= generate_features(competition_dataset.stances,competition_dataset)\n",
        "\n",
        "combined_list_test = [list(x_test) for x_test in zip(h_test, b_test, y_test)]\n",
        "\n",
        "combine_df_test=pd.DataFrame(combined_list_test,columns = [\"Headline\",\"articleBody\",\"Stances\"])\n",
        "combine_df_test.to_csv(\"./data/combined_list_test.csv\")\n",
        "\n"
      ],
      "execution_count": null,
      "outputs": [
        {
          "output_type": "stream",
          "text": [
            "Reading dataset\n",
            "Total stances: 25413\n",
            "Total bodies: 904\n"
          ],
          "name": "stdout"
        }
      ]
    },
    {
      "cell_type": "code",
      "metadata": {
        "id": "9FtENEsYpaHK",
        "colab_type": "code",
        "colab": {}
      },
      "source": [
        "# Pre-processing involves removal of puctuations and converting text to lower case\n",
        "word_seq_head_train = [text_to_word_sequence(head) for head in combine_df_train['Headline']]\n",
        "word_seq_bodies_train = [text_to_word_sequence(body) for body in combine_df_train['articleBody']]\n",
        "word_seq_head_test = [text_to_word_sequence(head) for head in combine_df_test['Headline']]\n",
        "word_seq_bodies_test = [text_to_word_sequence(body) for body in combine_df_test['articleBody']]"
      ],
      "execution_count": null,
      "outputs": []
    },
    {
      "cell_type": "code",
      "metadata": {
        "id": "oZsb3ByUxQSY",
        "colab_type": "code",
        "colab": {}
      },
      "source": [
        "# Combine headline and body together\n",
        "word_seq_train = [list(i) for i in word_seq_head_train]\n",
        "for i in range(len(word_seq_head_train)):\n",
        "    word_seq_train[i].extend(word_seq_bodies_train[i]) \n",
        "    \n",
        "word_seq_test = [list(i) for i in word_seq_head_test]\n",
        "for i in range(len(word_seq_head_test)):\n",
        "    word_seq_test[i].extend(word_seq_bodies_test[i])"
      ],
      "execution_count": null,
      "outputs": []
    },
    {
      "cell_type": "code",
      "metadata": {
        "id": "guFfQn-z0cKb",
        "colab_type": "code",
        "colab": {}
      },
      "source": [
        "fix_words = word_seq_train + word_seq_test"
      ],
      "execution_count": null,
      "outputs": []
    },
    {
      "cell_type": "code",
      "metadata": {
        "id": "uyiypxEK0fS-",
        "colab_type": "code",
        "colab": {}
      },
      "source": [
        "fix = [\" \".join(i) for i in fix_words]"
      ],
      "execution_count": null,
      "outputs": []
    },
    {
      "cell_type": "code",
      "metadata": {
        "id": "kxnEhI_G0mOZ",
        "colab_type": "code",
        "colab": {
          "base_uri": "https://localhost:8080/",
          "height": 137
        },
        "outputId": "07c1ef26-d026-4b37-95a8-0ec46522b268"
      },
      "source": [
        "fix[10]"
      ],
      "execution_count": null,
      "outputs": [
        {
          "output_type": "execute_result",
          "data": {
            "application/vnd.google.colaboratory.intrinsic+json": {
              "type": "string"
            },
            "text/plain": [
              "'gateway pundit a british rapper whose father is awaiting trial in manhattan for a pair of us embassy bombings is a leading suspect in the barbaric beheading of american journalist james foley it was revealed on friday abdel majed abdel bary — who recently tweeted a photo of himself holding up a severed head — was among three brits identified as possibly being the masked killer known as “john the beatle ” bary 24 is the son of an egyptian born militant who is awaiting trial on terror charges tied to the deadly 1998 bombings of embassies in kenya and tanzania also under investigation are the brother of a british doctor once charged with kidnapping two western war correspondents and a former gang member who converted to islam and traveled to syria britain’s telegraph newspaper reported a dozen american counterterrorism experts are expected to fly to the uk “within days” to help identify foley’s killer britain’s daily mail reported former hostages held by isis have said he is one of several jihadists they nicknamed “the beatles” due to their british accents with two of his cronies referred to as “george” and “ringo ” bary who went to syria last year to fight in its bloody civil war has a build skin tone and \\xadaccent all similar to those of “john ” according to the telegraph before becoming a jihadist he was an aspiring rapper from west london known as “l jinny ” whose music was played on bbc radio 1 bary also appeared in music videos posted on youtube for songs titled “overdose ” “flying high” and “dreamer ” but he was reportedly radicalized by followers of firebrand \\xadislamic preacher anjem choudary and walked out of his family’s plush home in the maida vale district of london last year saying he was “leaving everything for the sake of allah ” earlier this month he was seen in a photo posted to twitter wearing camouflage clothing and a black balaclava while holding a severed head with his left hand — the same hand “john” is seen using to draw a knife across foley’s throat in his execution video according to the telegraph bary is on an official list of british jihadists who may be “john ” also on the list is razul islam 21 the paper says in 2012 islam’s two older brothers — including dr shajul islam a suspended physician with england’s national health service — were charged with kidnapping two western war correspondents near the syrian border with turkey but the brothers were released last year after neither british journalist john cantile nor dutch photographer jeroen oerlmans appeared to testify against them another suspect is aine davis 30 a former drug dealer and gang member who the telegraph said converted to islam and flew to syria to wage jihad'"
            ]
          },
          "metadata": {
            "tags": []
          },
          "execution_count": 13
        }
      ]
    },
    {
      "cell_type": "code",
      "metadata": {
        "id": "zyvqGTdB0n8K",
        "colab_type": "code",
        "colab": {}
      },
      "source": [
        "from sklearn.feature_extraction.text import TfidfVectorizer\n",
        "vectorizer = TfidfVectorizer()\n",
        "X_all_tfidf = vectorizer.fit_transform(fix)"
      ],
      "execution_count": null,
      "outputs": []
    },
    {
      "cell_type": "code",
      "metadata": {
        "id": "HlM-MblW0-tT",
        "colab_type": "code",
        "colab": {}
      },
      "source": [
        "X_train_tfidf = X_all_tfidf[0:len(word_seq_train), :]\n",
        "X_test_tfidf = X_all_tfidf[len(word_seq_train): len(fix), :]"
      ],
      "execution_count": null,
      "outputs": []
    },
    {
      "cell_type": "code",
      "metadata": {
        "id": "EMErQHhZEpff",
        "colab_type": "code",
        "colab": {}
      },
      "source": [
        "from sklearn.metrics import accuracy_score\n",
        "from sklearn.metrics import confusion_matrix\n",
        "from sklearn.metrics import classification_report\n",
        "from sklearn.metrics import roc_auc_score"
      ],
      "execution_count": null,
      "outputs": []
    },
    {
      "cell_type": "markdown",
      "metadata": {
        "id": "t0OlV-jfLe97",
        "colab_type": "text"
      },
      "source": [
        "## DECISION TREE CLASSIFIER"
      ]
    },
    {
      "cell_type": "code",
      "metadata": {
        "id": "R_QqVGN3Esjw",
        "colab_type": "code",
        "colab": {
          "base_uri": "https://localhost:8080/",
          "height": 119
        },
        "outputId": "5c65559d-b595-4586-c0b6-1bc8a83d592b"
      },
      "source": [
        "from sklearn.tree import DecisionTreeClassifier\n",
        "tree = DecisionTreeClassifier(random_state=0)\n",
        "tree.fit(X_train_tfidf, y)"
      ],
      "execution_count": null,
      "outputs": [
        {
          "output_type": "execute_result",
          "data": {
            "text/plain": [
              "DecisionTreeClassifier(ccp_alpha=0.0, class_weight=None, criterion='gini',\n",
              "                       max_depth=None, max_features=None, max_leaf_nodes=None,\n",
              "                       min_impurity_decrease=0.0, min_impurity_split=None,\n",
              "                       min_samples_leaf=1, min_samples_split=2,\n",
              "                       min_weight_fraction_leaf=0.0, presort='deprecated',\n",
              "                       random_state=0, splitter='best')"
            ]
          },
          "metadata": {
            "tags": []
          },
          "execution_count": 17
        }
      ]
    },
    {
      "cell_type": "code",
      "metadata": {
        "id": "gggh5FjzFkRh",
        "colab_type": "code",
        "colab": {}
      },
      "source": [
        "y_DT = tree.predict(X_test_tfidf)"
      ],
      "execution_count": null,
      "outputs": []
    },
    {
      "cell_type": "code",
      "metadata": {
        "id": "EkwAlh0FLtDK",
        "colab_type": "code",
        "colab": {
          "base_uri": "https://localhost:8080/",
          "height": 272
        },
        "outputId": "6545aa1e-05af-498b-ae1e-ea95c2166b2c"
      },
      "source": [
        "actual = [LABELS[int(a)] for a in y_competition]\n",
        "predict_1= [LABELS[int(a)] for a in y_DT]\n",
        "\n",
        "\n",
        "print(\"Scores on the test set\")\n",
        "report_score(actual,predict_1)"
      ],
      "execution_count": null,
      "outputs": [
        {
          "output_type": "stream",
          "text": [
            "Scores on the test set\n",
            "Score 4748.0\n",
            "-------------------------------------------------------------\n",
            "|           |   agree   | disagree  |  discuss  | unrelated |\n",
            "-------------------------------------------------------------\n",
            "|   agree   |    320    |    66     |    256    |   1261    |\n",
            "-------------------------------------------------------------\n",
            "| disagree  |    126    |    21     |    79     |    471    |\n",
            "-------------------------------------------------------------\n",
            "|  discuss  |    583    |    56     |   1180    |   2645    |\n",
            "-------------------------------------------------------------\n",
            "| unrelated |   2754    |    425    |   3428    |   11742   |\n",
            "-------------------------------------------------------------\n",
            "Score: 4748.0 out of 11651.25\t(40.750992382791544%)\n"
          ],
          "name": "stdout"
        },
        {
          "output_type": "execute_result",
          "data": {
            "text/plain": [
              "40.750992382791544"
            ]
          },
          "metadata": {
            "tags": []
          },
          "execution_count": 19
        }
      ]
    },
    {
      "cell_type": "markdown",
      "metadata": {
        "id": "YwovFm-qLaBy",
        "colab_type": "text"
      },
      "source": [
        "## XGBOOST"
      ]
    },
    {
      "cell_type": "code",
      "metadata": {
        "id": "dBpgBu4VG28V",
        "colab_type": "code",
        "colab": {}
      },
      "source": [
        "import xgboost as xgb\n",
        "\n",
        "model1 = xgb.XGBClassifier()\n",
        "\n",
        "train_model1 = model1.fit(X_train_tfidf, y)\n",
        "\n"
      ],
      "execution_count": null,
      "outputs": []
    },
    {
      "cell_type": "code",
      "metadata": {
        "id": "JrBX0FLQIIcI",
        "colab_type": "code",
        "colab": {}
      },
      "source": [
        "model2 = xgb.XGBClassifier(n_estimators=100, max_depth=8, learning_rate=0.1, subsample=0.5)\n",
        "\n",
        "train_model2 = model2.fit(X_train_tfidf, y)\n"
      ],
      "execution_count": null,
      "outputs": []
    },
    {
      "cell_type": "code",
      "metadata": {
        "id": "NbL0-oCNH_Il",
        "colab_type": "code",
        "colab": {}
      },
      "source": [
        "pred1 = train_model1.predict(X_test_tfidf)\n",
        "pred2 = train_model2.predict(X_test_tfidf)"
      ],
      "execution_count": null,
      "outputs": []
    },
    {
      "cell_type": "code",
      "metadata": {
        "id": "aJZE-dziKYTm",
        "colab_type": "code",
        "colab": {
          "base_uri": "https://localhost:8080/",
          "height": 272
        },
        "outputId": "f30ca664-32e1-40f3-fd03-9b9f826cc42c"
      },
      "source": [
        "predict_1= [LABELS[int(a)] for a in pred1]\n",
        "print(\"Scores on the test set\")\n",
        "report_score(actual,predict_1)"
      ],
      "execution_count": null,
      "outputs": [
        {
          "output_type": "stream",
          "text": [
            "Scores on the test set\n",
            "Score 4631.25\n",
            "-------------------------------------------------------------\n",
            "|           |   agree   | disagree  |  discuss  | unrelated |\n",
            "-------------------------------------------------------------\n",
            "|   agree   |     0     |     0     |    17     |   1886    |\n",
            "-------------------------------------------------------------\n",
            "| disagree  |     0     |     0     |     1     |    696    |\n",
            "-------------------------------------------------------------\n",
            "|  discuss  |     0     |     0     |    96     |   4368    |\n",
            "-------------------------------------------------------------\n",
            "| unrelated |     1     |     0     |    225    |   18123   |\n",
            "-------------------------------------------------------------\n",
            "Score: 4631.25 out of 11651.25\t(39.7489539748954%)\n"
          ],
          "name": "stdout"
        },
        {
          "output_type": "execute_result",
          "data": {
            "text/plain": [
              "39.7489539748954"
            ]
          },
          "metadata": {
            "tags": []
          },
          "execution_count": 23
        }
      ]
    },
    {
      "cell_type": "code",
      "metadata": {
        "id": "JUiz6zRNKmYS",
        "colab_type": "code",
        "colab": {
          "base_uri": "https://localhost:8080/",
          "height": 272
        },
        "outputId": "f19fd9f5-2e97-417a-ded4-c11becdc4100"
      },
      "source": [
        "predict_1= [LABELS[int(a)] for a in pred2]\n",
        "print(\"Scores on the test set\")\n",
        "report_score(actual,predict_1)"
      ],
      "execution_count": null,
      "outputs": [
        {
          "output_type": "stream",
          "text": [
            "Scores on the test set\n",
            "Score 4767.25\n",
            "-------------------------------------------------------------\n",
            "|           |   agree   | disagree  |  discuss  | unrelated |\n",
            "-------------------------------------------------------------\n",
            "|   agree   |     9     |     0     |    79     |   1815    |\n",
            "-------------------------------------------------------------\n",
            "| disagree  |     6     |     0     |    19     |    672    |\n",
            "-------------------------------------------------------------\n",
            "|  discuss  |     4     |     0     |    424    |   4036    |\n",
            "-------------------------------------------------------------\n",
            "| unrelated |    62     |     0     |   1058    |   17229   |\n",
            "-------------------------------------------------------------\n",
            "Score: 4767.25 out of 11651.25\t(40.91621070700569%)\n"
          ],
          "name": "stdout"
        },
        {
          "output_type": "execute_result",
          "data": {
            "text/plain": [
              "40.91621070700569"
            ]
          },
          "metadata": {
            "tags": []
          },
          "execution_count": 26
        }
      ]
    },
    {
      "cell_type": "markdown",
      "metadata": {
        "id": "GpgIaSXQg3yA",
        "colab_type": "text"
      },
      "source": [
        "## RANDOM FOREST CLASSIFIER"
      ]
    },
    {
      "cell_type": "code",
      "metadata": {
        "id": "0r-acAusgpeC",
        "colab_type": "code",
        "colab": {
          "base_uri": "https://localhost:8080/",
          "height": 153
        },
        "outputId": "a19650cd-79e9-439c-f990-52302fa418af"
      },
      "source": [
        "from sklearn.ensemble import RandomForestClassifier\n",
        "\n",
        "forest = RandomForestClassifier(n_estimators=100, random_state=0)\n",
        "forest.fit(X_train_tfidf, y)"
      ],
      "execution_count": null,
      "outputs": [
        {
          "output_type": "execute_result",
          "data": {
            "text/plain": [
              "RandomForestClassifier(bootstrap=True, ccp_alpha=0.0, class_weight=None,\n",
              "                       criterion='gini', max_depth=None, max_features='auto',\n",
              "                       max_leaf_nodes=None, max_samples=None,\n",
              "                       min_impurity_decrease=0.0, min_impurity_split=None,\n",
              "                       min_samples_leaf=1, min_samples_split=2,\n",
              "                       min_weight_fraction_leaf=0.0, n_estimators=100,\n",
              "                       n_jobs=None, oob_score=False, random_state=0, verbose=0,\n",
              "                       warm_start=False)"
            ]
          },
          "metadata": {
            "tags": []
          },
          "execution_count": 27
        }
      ]
    },
    {
      "cell_type": "code",
      "metadata": {
        "id": "QC7IkKRNhA6E",
        "colab_type": "code",
        "colab": {}
      },
      "source": [
        "y_RF = forest.predict(X_test_tfidf)\n"
      ],
      "execution_count": null,
      "outputs": []
    },
    {
      "cell_type": "code",
      "metadata": {
        "id": "YPUTz6L1hDil",
        "colab_type": "code",
        "colab": {
          "base_uri": "https://localhost:8080/"
        },
        "outputId": "a055b4f7-a14a-4d9d-aa32-dd31fe21be7d"
      },
      "source": [
        "actual = [LABELS[int(a)] for a in y_competition]\n",
        "predict_1= [LABELS[int(a)] for a in y_RF]\n",
        "\n",
        "print(\"Scores on the test set\")\n",
        "report_score(actual,predict_1)"
      ],
      "execution_count": null,
      "outputs": [
        {
          "output_type": "stream",
          "text": [
            "Scores on the test set\n",
            "Score 4766.25\n",
            "-------------------------------------------------------------\n",
            "|           |   agree   | disagree  |  discuss  | unrelated |\n",
            "-------------------------------------------------------------\n",
            "|   agree   |     2     |     0     |    92     |   1809    |\n",
            "-------------------------------------------------------------\n",
            "| disagree  |     0     |     0     |     3     |    694    |\n",
            "-------------------------------------------------------------\n",
            "|  discuss  |    11     |     0     |    451    |   4002    |\n",
            "-------------------------------------------------------------\n",
            "| unrelated |     0     |     0     |   1202    |   17147   |\n",
            "-------------------------------------------------------------\n",
            "Score: 4766.25 out of 11651.25\t(40.90762793691664%)\n"
          ],
          "name": "stdout"
        },
        {
          "output_type": "execute_result",
          "data": {
            "text/plain": [
              "40.90762793691664"
            ]
          },
          "metadata": {
            "tags": []
          },
          "execution_count": 29
        }
      ]
    },
    {
      "cell_type": "markdown",
      "metadata": {
        "id": "f9WOGIWfGAVK",
        "colab_type": "text"
      },
      "source": [
        "### LINEAR SVM"
      ]
    },
    {
      "cell_type": "code",
      "metadata": {
        "id": "BcmGukxq3Z5C",
        "colab_type": "code",
        "colab": {}
      },
      "source": [
        "from sklearn.svm import LinearSVC\n",
        "linear_svm = LinearSVC().fit(X_train_tfidf, y)"
      ],
      "execution_count": null,
      "outputs": []
    },
    {
      "cell_type": "code",
      "metadata": {
        "id": "3_EUeUoFHM67",
        "colab_type": "code",
        "colab": {}
      },
      "source": [
        "y_SVM = linear_svm.predict(X_test_tfidf)"
      ],
      "execution_count": null,
      "outputs": []
    },
    {
      "cell_type": "code",
      "metadata": {
        "id": "ti-GA2qeHclT",
        "colab_type": "code",
        "colab": {
          "base_uri": "https://localhost:8080/",
          "height": 272
        },
        "outputId": "1d537079-ae09-48d8-b245-7047e9e0576f"
      },
      "source": [
        "actual = [LABELS[int(a)] for a in y_competition]\n",
        "predict_1= [LABELS[int(a)] for a in y_SVM]\n",
        "\n",
        "print(\"Scores on the test set\")\n",
        "report_score(actual,predict_1)"
      ],
      "execution_count": null,
      "outputs": [
        {
          "output_type": "stream",
          "text": [
            "Scores on the test set\n",
            "Score 5364.5\n",
            "-------------------------------------------------------------\n",
            "|           |   agree   | disagree  |  discuss  | unrelated |\n",
            "-------------------------------------------------------------\n",
            "|   agree   |    325    |     0     |   1346    |    232    |\n",
            "-------------------------------------------------------------\n",
            "| disagree  |    73     |     0     |    545    |    79     |\n",
            "-------------------------------------------------------------\n",
            "|  discuss  |    183    |     0     |   3746    |    535    |\n",
            "-------------------------------------------------------------\n",
            "| unrelated |   1998    |     0     |   13324   |   3027    |\n",
            "-------------------------------------------------------------\n",
            "Score: 5364.5 out of 11651.25\t(46.04227014268855%)\n"
          ],
          "name": "stdout"
        },
        {
          "output_type": "execute_result",
          "data": {
            "text/plain": [
              "46.04227014268855"
            ]
          },
          "metadata": {
            "tags": []
          },
          "execution_count": 19
        }
      ]
    },
    {
      "cell_type": "markdown",
      "metadata": {
        "id": "5EdYMIu9HrRy",
        "colab_type": "text"
      },
      "source": [
        "## SVM"
      ]
    },
    {
      "cell_type": "code",
      "metadata": {
        "id": "qZiUlWKHHmMm",
        "colab_type": "code",
        "colab": {}
      },
      "source": [
        "from sklearn.svm import SVC\n",
        "svm = SVC().fit(X_train_tfidf, y)"
      ],
      "execution_count": null,
      "outputs": []
    },
    {
      "cell_type": "code",
      "metadata": {
        "id": "7iZd3Zb7H0mp",
        "colab_type": "code",
        "colab": {}
      },
      "source": [
        "y_svm = svm.predict(X_test_tfidf)"
      ],
      "execution_count": null,
      "outputs": []
    },
    {
      "cell_type": "code",
      "metadata": {
        "id": "EIrx5hmYH4UX",
        "colab_type": "code",
        "colab": {
          "base_uri": "https://localhost:8080/"
        },
        "outputId": "9ede69b9-3721-4c92-89e6-7466af65900f"
      },
      "source": [
        "actual = [LABELS[int(a)] for a in y_competition]\n",
        "predict_1= [LABELS[int(a)] for a in y_svm]\n",
        "\n",
        "print(\"Scores on the test set\")\n",
        "report_score(actual,predict_1)"
      ],
      "execution_count": null,
      "outputs": [
        {
          "output_type": "stream",
          "text": [
            "Scores on the test set\n",
            "Score 4813.75\n",
            "-------------------------------------------------------------\n",
            "|           |   agree   | disagree  |  discuss  | unrelated |\n",
            "-------------------------------------------------------------\n",
            "|   agree   |     0     |     0     |    20     |   1883    |\n",
            "-------------------------------------------------------------\n",
            "| disagree  |     3     |     0     |     3     |    691    |\n",
            "-------------------------------------------------------------\n",
            "|  discuss  |     2     |     0     |    327    |   4135    |\n",
            "-------------------------------------------------------------\n",
            "| unrelated |     1     |     0     |    429    |   17919   |\n",
            "-------------------------------------------------------------\n",
            "Score: 4813.75 out of 11651.25\t(41.315309516146336%)\n"
          ],
          "name": "stdout"
        },
        {
          "output_type": "execute_result",
          "data": {
            "text/plain": [
              "41.315309516146336"
            ]
          },
          "metadata": {
            "tags": []
          },
          "execution_count": 22
        }
      ]
    },
    {
      "cell_type": "code",
      "metadata": {
        "id": "MyuSN1YpH9C9",
        "colab_type": "code",
        "colab": {}
      },
      "source": [
        ""
      ],
      "execution_count": null,
      "outputs": []
    }
  ]
}