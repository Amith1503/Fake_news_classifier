{
  "nbformat": 4,
  "nbformat_minor": 0,
  "metadata": {
    "colab": {
      "name": "BERT + BIDIRECTIONAL_LSTM.ipynb",
      "provenance": [],
      "collapsed_sections": [],
      "toc_visible": true
    },
    "kernelspec": {
      "name": "python3",
      "display_name": "Python 3"
    },
    "accelerator": "GPU"
  },
  "cells": [
    {
      "cell_type": "markdown",
      "metadata": {
        "id": "qJdE6pcWSf_i",
        "colab_type": "text"
      },
      "source": [
        "## SPACY LIB for transformers"
      ]
    },
    {
      "cell_type": "code",
      "metadata": {
        "id": "Q5raJ8a01F7k",
        "colab_type": "code",
        "colab": {
          "base_uri": "https://localhost:8080/",
          "height": 784
        },
        "outputId": "507a5157-7548-4c66-f8e4-a3d618260f50"
      },
      "source": [
        "!pip install spacy-transformers\n"
      ],
      "execution_count": null,
      "outputs": [
        {
          "output_type": "stream",
          "text": [
            "Requirement already satisfied: spacy-transformers in /usr/local/lib/python3.6/dist-packages (0.6.2)\n",
            "Requirement already satisfied: pytokenizations>=0.2.0 in /usr/local/lib/python3.6/dist-packages (from spacy-transformers) (0.5.0)\n",
            "Requirement already satisfied: torchcontrib<0.1.0,>=0.0.2 in /usr/local/lib/python3.6/dist-packages (from spacy-transformers) (0.0.2)\n",
            "Requirement already satisfied: transformers<2.9.0,>=2.4.0 in /usr/local/lib/python3.6/dist-packages (from spacy-transformers) (2.8.0)\n",
            "Requirement already satisfied: dataclasses<0.7,>=0.6; python_version < \"3.7\" in /usr/local/lib/python3.6/dist-packages (from spacy-transformers) (0.6)\n",
            "Requirement already satisfied: srsly<1.1.0,>=0.0.7 in /usr/local/lib/python3.6/dist-packages (from spacy-transformers) (1.0.2)\n",
            "Requirement already satisfied: spacy<2.4.0,>=2.3.0 in /usr/local/lib/python3.6/dist-packages (from spacy-transformers) (2.3.2)\n",
            "Requirement already satisfied: torch>=1.0.0 in /usr/local/lib/python3.6/dist-packages (from spacy-transformers) (1.5.1+cu101)\n",
            "Requirement already satisfied: importlib-metadata>=0.20; python_version < \"3.8\" in /usr/local/lib/python3.6/dist-packages (from spacy-transformers) (1.7.0)\n",
            "Requirement already satisfied: ftfy<6.0.0,>=5.0.0 in /usr/local/lib/python3.6/dist-packages (from spacy-transformers) (5.8)\n",
            "Requirement already satisfied: requests in /usr/local/lib/python3.6/dist-packages (from transformers<2.9.0,>=2.4.0->spacy-transformers) (2.23.0)\n",
            "Requirement already satisfied: sacremoses in /usr/local/lib/python3.6/dist-packages (from transformers<2.9.0,>=2.4.0->spacy-transformers) (0.0.43)\n",
            "Requirement already satisfied: regex!=2019.12.17 in /usr/local/lib/python3.6/dist-packages (from transformers<2.9.0,>=2.4.0->spacy-transformers) (2019.12.20)\n",
            "Requirement already satisfied: filelock in /usr/local/lib/python3.6/dist-packages (from transformers<2.9.0,>=2.4.0->spacy-transformers) (3.0.12)\n",
            "Requirement already satisfied: tqdm>=4.27 in /usr/local/lib/python3.6/dist-packages (from transformers<2.9.0,>=2.4.0->spacy-transformers) (4.41.1)\n",
            "Requirement already satisfied: sentencepiece in /usr/local/lib/python3.6/dist-packages (from transformers<2.9.0,>=2.4.0->spacy-transformers) (0.1.91)\n",
            "Requirement already satisfied: numpy in /usr/local/lib/python3.6/dist-packages (from transformers<2.9.0,>=2.4.0->spacy-transformers) (1.18.5)\n",
            "Requirement already satisfied: tokenizers==0.5.2 in /usr/local/lib/python3.6/dist-packages (from transformers<2.9.0,>=2.4.0->spacy-transformers) (0.5.2)\n",
            "Requirement already satisfied: boto3 in /usr/local/lib/python3.6/dist-packages (from transformers<2.9.0,>=2.4.0->spacy-transformers) (1.14.28)\n",
            "Requirement already satisfied: murmurhash<1.1.0,>=0.28.0 in /usr/local/lib/python3.6/dist-packages (from spacy<2.4.0,>=2.3.0->spacy-transformers) (1.0.2)\n",
            "Requirement already satisfied: thinc==7.4.1 in /usr/local/lib/python3.6/dist-packages (from spacy<2.4.0,>=2.3.0->spacy-transformers) (7.4.1)\n",
            "Requirement already satisfied: wasabi<1.1.0,>=0.4.0 in /usr/local/lib/python3.6/dist-packages (from spacy<2.4.0,>=2.3.0->spacy-transformers) (0.7.1)\n",
            "Requirement already satisfied: plac<1.2.0,>=0.9.6 in /usr/local/lib/python3.6/dist-packages (from spacy<2.4.0,>=2.3.0->spacy-transformers) (1.1.3)\n",
            "Requirement already satisfied: setuptools in /usr/local/lib/python3.6/dist-packages (from spacy<2.4.0,>=2.3.0->spacy-transformers) (49.1.0)\n",
            "Requirement already satisfied: blis<0.5.0,>=0.4.0 in /usr/local/lib/python3.6/dist-packages (from spacy<2.4.0,>=2.3.0->spacy-transformers) (0.4.1)\n",
            "Requirement already satisfied: catalogue<1.1.0,>=0.0.7 in /usr/local/lib/python3.6/dist-packages (from spacy<2.4.0,>=2.3.0->spacy-transformers) (1.0.0)\n",
            "Requirement already satisfied: preshed<3.1.0,>=3.0.2 in /usr/local/lib/python3.6/dist-packages (from spacy<2.4.0,>=2.3.0->spacy-transformers) (3.0.2)\n",
            "Requirement already satisfied: cymem<2.1.0,>=2.0.2 in /usr/local/lib/python3.6/dist-packages (from spacy<2.4.0,>=2.3.0->spacy-transformers) (2.0.3)\n",
            "Requirement already satisfied: future in /usr/local/lib/python3.6/dist-packages (from torch>=1.0.0->spacy-transformers) (0.16.0)\n",
            "Requirement already satisfied: zipp>=0.5 in /usr/local/lib/python3.6/dist-packages (from importlib-metadata>=0.20; python_version < \"3.8\"->spacy-transformers) (3.1.0)\n",
            "Requirement already satisfied: wcwidth in /usr/local/lib/python3.6/dist-packages (from ftfy<6.0.0,>=5.0.0->spacy-transformers) (0.2.5)\n",
            "Requirement already satisfied: chardet<4,>=3.0.2 in /usr/local/lib/python3.6/dist-packages (from requests->transformers<2.9.0,>=2.4.0->spacy-transformers) (3.0.4)\n",
            "Requirement already satisfied: idna<3,>=2.5 in /usr/local/lib/python3.6/dist-packages (from requests->transformers<2.9.0,>=2.4.0->spacy-transformers) (2.10)\n",
            "Requirement already satisfied: certifi>=2017.4.17 in /usr/local/lib/python3.6/dist-packages (from requests->transformers<2.9.0,>=2.4.0->spacy-transformers) (2020.6.20)\n",
            "Requirement already satisfied: urllib3!=1.25.0,!=1.25.1,<1.26,>=1.21.1 in /usr/local/lib/python3.6/dist-packages (from requests->transformers<2.9.0,>=2.4.0->spacy-transformers) (1.24.3)\n",
            "Requirement already satisfied: six in /usr/local/lib/python3.6/dist-packages (from sacremoses->transformers<2.9.0,>=2.4.0->spacy-transformers) (1.15.0)\n",
            "Requirement already satisfied: joblib in /usr/local/lib/python3.6/dist-packages (from sacremoses->transformers<2.9.0,>=2.4.0->spacy-transformers) (0.16.0)\n",
            "Requirement already satisfied: click in /usr/local/lib/python3.6/dist-packages (from sacremoses->transformers<2.9.0,>=2.4.0->spacy-transformers) (7.1.2)\n",
            "Requirement already satisfied: s3transfer<0.4.0,>=0.3.0 in /usr/local/lib/python3.6/dist-packages (from boto3->transformers<2.9.0,>=2.4.0->spacy-transformers) (0.3.3)\n",
            "Requirement already satisfied: botocore<1.18.0,>=1.17.28 in /usr/local/lib/python3.6/dist-packages (from boto3->transformers<2.9.0,>=2.4.0->spacy-transformers) (1.17.28)\n",
            "Requirement already satisfied: jmespath<1.0.0,>=0.7.1 in /usr/local/lib/python3.6/dist-packages (from boto3->transformers<2.9.0,>=2.4.0->spacy-transformers) (0.10.0)\n",
            "Requirement already satisfied: docutils<0.16,>=0.10 in /usr/local/lib/python3.6/dist-packages (from botocore<1.18.0,>=1.17.28->boto3->transformers<2.9.0,>=2.4.0->spacy-transformers) (0.15.2)\n",
            "Requirement already satisfied: python-dateutil<3.0.0,>=2.1 in /usr/local/lib/python3.6/dist-packages (from botocore<1.18.0,>=1.17.28->boto3->transformers<2.9.0,>=2.4.0->spacy-transformers) (2.8.1)\n"
          ],
          "name": "stdout"
        }
      ]
    },
    {
      "cell_type": "code",
      "metadata": {
        "id": "rLAkQR5y1Mqo",
        "colab_type": "code",
        "colab": {
          "base_uri": "https://localhost:8080/",
          "height": 836
        },
        "outputId": "4553d149-331f-4ac1-9719-6aeb511edddc"
      },
      "source": [
        "!python -m spacy download en_trf_bertbaseuncased_lg"
      ],
      "execution_count": null,
      "outputs": [
        {
          "output_type": "stream",
          "text": [
            "Requirement already satisfied: en_trf_bertbaseuncased_lg==2.3.0 from https://github.com/explosion/spacy-models/releases/download/en_trf_bertbaseuncased_lg-2.3.0/en_trf_bertbaseuncased_lg-2.3.0.tar.gz#egg=en_trf_bertbaseuncased_lg==2.3.0 in /usr/local/lib/python3.6/dist-packages (2.3.0)\n",
            "Requirement already satisfied: spacy<2.4.0,>=2.3.0 in /usr/local/lib/python3.6/dist-packages (from en_trf_bertbaseuncased_lg==2.3.0) (2.3.2)\n",
            "Requirement already satisfied: spacy-transformers<0.7.0,>=0.6.1 in /usr/local/lib/python3.6/dist-packages (from en_trf_bertbaseuncased_lg==2.3.0) (0.6.2)\n",
            "Requirement already satisfied: murmurhash<1.1.0,>=0.28.0 in /usr/local/lib/python3.6/dist-packages (from spacy<2.4.0,>=2.3.0->en_trf_bertbaseuncased_lg==2.3.0) (1.0.2)\n",
            "Requirement already satisfied: thinc==7.4.1 in /usr/local/lib/python3.6/dist-packages (from spacy<2.4.0,>=2.3.0->en_trf_bertbaseuncased_lg==2.3.0) (7.4.1)\n",
            "Requirement already satisfied: setuptools in /usr/local/lib/python3.6/dist-packages (from spacy<2.4.0,>=2.3.0->en_trf_bertbaseuncased_lg==2.3.0) (49.1.0)\n",
            "Requirement already satisfied: requests<3.0.0,>=2.13.0 in /usr/local/lib/python3.6/dist-packages (from spacy<2.4.0,>=2.3.0->en_trf_bertbaseuncased_lg==2.3.0) (2.23.0)\n",
            "Requirement already satisfied: wasabi<1.1.0,>=0.4.0 in /usr/local/lib/python3.6/dist-packages (from spacy<2.4.0,>=2.3.0->en_trf_bertbaseuncased_lg==2.3.0) (0.7.1)\n",
            "Requirement already satisfied: tqdm<5.0.0,>=4.38.0 in /usr/local/lib/python3.6/dist-packages (from spacy<2.4.0,>=2.3.0->en_trf_bertbaseuncased_lg==2.3.0) (4.41.1)\n",
            "Requirement already satisfied: blis<0.5.0,>=0.4.0 in /usr/local/lib/python3.6/dist-packages (from spacy<2.4.0,>=2.3.0->en_trf_bertbaseuncased_lg==2.3.0) (0.4.1)\n",
            "Requirement already satisfied: numpy>=1.15.0 in /usr/local/lib/python3.6/dist-packages (from spacy<2.4.0,>=2.3.0->en_trf_bertbaseuncased_lg==2.3.0) (1.18.5)\n",
            "Requirement already satisfied: preshed<3.1.0,>=3.0.2 in /usr/local/lib/python3.6/dist-packages (from spacy<2.4.0,>=2.3.0->en_trf_bertbaseuncased_lg==2.3.0) (3.0.2)\n",
            "Requirement already satisfied: srsly<1.1.0,>=1.0.2 in /usr/local/lib/python3.6/dist-packages (from spacy<2.4.0,>=2.3.0->en_trf_bertbaseuncased_lg==2.3.0) (1.0.2)\n",
            "Requirement already satisfied: plac<1.2.0,>=0.9.6 in /usr/local/lib/python3.6/dist-packages (from spacy<2.4.0,>=2.3.0->en_trf_bertbaseuncased_lg==2.3.0) (1.1.3)\n",
            "Requirement already satisfied: cymem<2.1.0,>=2.0.2 in /usr/local/lib/python3.6/dist-packages (from spacy<2.4.0,>=2.3.0->en_trf_bertbaseuncased_lg==2.3.0) (2.0.3)\n",
            "Requirement already satisfied: catalogue<1.1.0,>=0.0.7 in /usr/local/lib/python3.6/dist-packages (from spacy<2.4.0,>=2.3.0->en_trf_bertbaseuncased_lg==2.3.0) (1.0.0)\n",
            "Requirement already satisfied: transformers<2.9.0,>=2.4.0 in /usr/local/lib/python3.6/dist-packages (from spacy-transformers<0.7.0,>=0.6.1->en_trf_bertbaseuncased_lg==2.3.0) (2.8.0)\n",
            "Requirement already satisfied: dataclasses<0.7,>=0.6; python_version < \"3.7\" in /usr/local/lib/python3.6/dist-packages (from spacy-transformers<0.7.0,>=0.6.1->en_trf_bertbaseuncased_lg==2.3.0) (0.6)\n",
            "Requirement already satisfied: importlib-metadata>=0.20; python_version < \"3.8\" in /usr/local/lib/python3.6/dist-packages (from spacy-transformers<0.7.0,>=0.6.1->en_trf_bertbaseuncased_lg==2.3.0) (1.7.0)\n",
            "Requirement already satisfied: torchcontrib<0.1.0,>=0.0.2 in /usr/local/lib/python3.6/dist-packages (from spacy-transformers<0.7.0,>=0.6.1->en_trf_bertbaseuncased_lg==2.3.0) (0.0.2)\n",
            "Requirement already satisfied: ftfy<6.0.0,>=5.0.0 in /usr/local/lib/python3.6/dist-packages (from spacy-transformers<0.7.0,>=0.6.1->en_trf_bertbaseuncased_lg==2.3.0) (5.8)\n",
            "Requirement already satisfied: torch>=1.0.0 in /usr/local/lib/python3.6/dist-packages (from spacy-transformers<0.7.0,>=0.6.1->en_trf_bertbaseuncased_lg==2.3.0) (1.5.1+cu101)\n",
            "Requirement already satisfied: pytokenizations>=0.2.0 in /usr/local/lib/python3.6/dist-packages (from spacy-transformers<0.7.0,>=0.6.1->en_trf_bertbaseuncased_lg==2.3.0) (0.5.0)\n",
            "Requirement already satisfied: chardet<4,>=3.0.2 in /usr/local/lib/python3.6/dist-packages (from requests<3.0.0,>=2.13.0->spacy<2.4.0,>=2.3.0->en_trf_bertbaseuncased_lg==2.3.0) (3.0.4)\n",
            "Requirement already satisfied: idna<3,>=2.5 in /usr/local/lib/python3.6/dist-packages (from requests<3.0.0,>=2.13.0->spacy<2.4.0,>=2.3.0->en_trf_bertbaseuncased_lg==2.3.0) (2.10)\n",
            "Requirement already satisfied: urllib3!=1.25.0,!=1.25.1,<1.26,>=1.21.1 in /usr/local/lib/python3.6/dist-packages (from requests<3.0.0,>=2.13.0->spacy<2.4.0,>=2.3.0->en_trf_bertbaseuncased_lg==2.3.0) (1.24.3)\n",
            "Requirement already satisfied: certifi>=2017.4.17 in /usr/local/lib/python3.6/dist-packages (from requests<3.0.0,>=2.13.0->spacy<2.4.0,>=2.3.0->en_trf_bertbaseuncased_lg==2.3.0) (2020.6.20)\n",
            "Requirement already satisfied: sacremoses in /usr/local/lib/python3.6/dist-packages (from transformers<2.9.0,>=2.4.0->spacy-transformers<0.7.0,>=0.6.1->en_trf_bertbaseuncased_lg==2.3.0) (0.0.43)\n",
            "Requirement already satisfied: boto3 in /usr/local/lib/python3.6/dist-packages (from transformers<2.9.0,>=2.4.0->spacy-transformers<0.7.0,>=0.6.1->en_trf_bertbaseuncased_lg==2.3.0) (1.14.28)\n",
            "Requirement already satisfied: tokenizers==0.5.2 in /usr/local/lib/python3.6/dist-packages (from transformers<2.9.0,>=2.4.0->spacy-transformers<0.7.0,>=0.6.1->en_trf_bertbaseuncased_lg==2.3.0) (0.5.2)\n",
            "Requirement already satisfied: regex!=2019.12.17 in /usr/local/lib/python3.6/dist-packages (from transformers<2.9.0,>=2.4.0->spacy-transformers<0.7.0,>=0.6.1->en_trf_bertbaseuncased_lg==2.3.0) (2019.12.20)\n",
            "Requirement already satisfied: sentencepiece in /usr/local/lib/python3.6/dist-packages (from transformers<2.9.0,>=2.4.0->spacy-transformers<0.7.0,>=0.6.1->en_trf_bertbaseuncased_lg==2.3.0) (0.1.91)\n",
            "Requirement already satisfied: filelock in /usr/local/lib/python3.6/dist-packages (from transformers<2.9.0,>=2.4.0->spacy-transformers<0.7.0,>=0.6.1->en_trf_bertbaseuncased_lg==2.3.0) (3.0.12)\n",
            "Requirement already satisfied: zipp>=0.5 in /usr/local/lib/python3.6/dist-packages (from importlib-metadata>=0.20; python_version < \"3.8\"->spacy-transformers<0.7.0,>=0.6.1->en_trf_bertbaseuncased_lg==2.3.0) (3.1.0)\n",
            "Requirement already satisfied: wcwidth in /usr/local/lib/python3.6/dist-packages (from ftfy<6.0.0,>=5.0.0->spacy-transformers<0.7.0,>=0.6.1->en_trf_bertbaseuncased_lg==2.3.0) (0.2.5)\n",
            "Requirement already satisfied: future in /usr/local/lib/python3.6/dist-packages (from torch>=1.0.0->spacy-transformers<0.7.0,>=0.6.1->en_trf_bertbaseuncased_lg==2.3.0) (0.16.0)\n",
            "Requirement already satisfied: six in /usr/local/lib/python3.6/dist-packages (from sacremoses->transformers<2.9.0,>=2.4.0->spacy-transformers<0.7.0,>=0.6.1->en_trf_bertbaseuncased_lg==2.3.0) (1.15.0)\n",
            "Requirement already satisfied: joblib in /usr/local/lib/python3.6/dist-packages (from sacremoses->transformers<2.9.0,>=2.4.0->spacy-transformers<0.7.0,>=0.6.1->en_trf_bertbaseuncased_lg==2.3.0) (0.16.0)\n",
            "Requirement already satisfied: click in /usr/local/lib/python3.6/dist-packages (from sacremoses->transformers<2.9.0,>=2.4.0->spacy-transformers<0.7.0,>=0.6.1->en_trf_bertbaseuncased_lg==2.3.0) (7.1.2)\n",
            "Requirement already satisfied: s3transfer<0.4.0,>=0.3.0 in /usr/local/lib/python3.6/dist-packages (from boto3->transformers<2.9.0,>=2.4.0->spacy-transformers<0.7.0,>=0.6.1->en_trf_bertbaseuncased_lg==2.3.0) (0.3.3)\n",
            "Requirement already satisfied: jmespath<1.0.0,>=0.7.1 in /usr/local/lib/python3.6/dist-packages (from boto3->transformers<2.9.0,>=2.4.0->spacy-transformers<0.7.0,>=0.6.1->en_trf_bertbaseuncased_lg==2.3.0) (0.10.0)\n",
            "Requirement already satisfied: botocore<1.18.0,>=1.17.28 in /usr/local/lib/python3.6/dist-packages (from boto3->transformers<2.9.0,>=2.4.0->spacy-transformers<0.7.0,>=0.6.1->en_trf_bertbaseuncased_lg==2.3.0) (1.17.28)\n",
            "Requirement already satisfied: docutils<0.16,>=0.10 in /usr/local/lib/python3.6/dist-packages (from botocore<1.18.0,>=1.17.28->boto3->transformers<2.9.0,>=2.4.0->spacy-transformers<0.7.0,>=0.6.1->en_trf_bertbaseuncased_lg==2.3.0) (0.15.2)\n",
            "Requirement already satisfied: python-dateutil<3.0.0,>=2.1 in /usr/local/lib/python3.6/dist-packages (from botocore<1.18.0,>=1.17.28->boto3->transformers<2.9.0,>=2.4.0->spacy-transformers<0.7.0,>=0.6.1->en_trf_bertbaseuncased_lg==2.3.0) (2.8.1)\n",
            "\u001b[38;5;2m✔ Download and installation successful\u001b[0m\n",
            "You can now load the model via spacy.load('en_trf_bertbaseuncased_lg')\n"
          ],
          "name": "stdout"
        }
      ]
    },
    {
      "cell_type": "markdown",
      "metadata": {
        "id": "3P-3WvmOSuYB",
        "colab_type": "text"
      },
      "source": [
        "## Loading the default bert model"
      ]
    },
    {
      "cell_type": "code",
      "metadata": {
        "id": "vLLPC8MG1VLv",
        "colab_type": "code",
        "colab": {}
      },
      "source": [
        "import spacy\n",
        "import torch\n",
        "import numpy\n",
        "from numpy.testing import assert_almost_equal\n",
        "\n",
        "# is_using_gpu = spacy.prefer_gpu()\n",
        "# if is_using_gpu:\n",
        "#     torch.set_default_tensor_type(\"torch.cuda.FloatTensor\")\n",
        "\n",
        "nlp = spacy.load(\"en_trf_bertbaseuncased_lg\")\n",
        "doc = nlp(\"Here is some text to encode.\")"
      ],
      "execution_count": null,
      "outputs": []
    },
    {
      "cell_type": "markdown",
      "metadata": {
        "id": "ow6W9CuyS-Hs",
        "colab_type": "text"
      },
      "source": [
        "## Importing Libraries"
      ]
    },
    {
      "cell_type": "code",
      "metadata": {
        "id": "BIg13-Y58Yc2",
        "colab_type": "code",
        "colab": {}
      },
      "source": [
        "import pandas as pd \n",
        "import gensim\n",
        "import numpy as np\n",
        "import pandas as pd\n",
        "import os\n",
        "import re\n",
        "import csv\n",
        "import codecs\n",
        "import sys\n",
        "import pickle\n",
        "\n",
        "from gensim.scripts.glove2word2vec import glove2word2vec\n",
        "from gensim.models import KeyedVectors\n",
        "from sklearn.model_selection import train_test_split\n",
        "\n",
        "from keras import callbacks\n",
        "from keras import optimizers\n",
        "from keras.models import Sequential, Model\n",
        "from keras.layers import Input, Dense, LSTM, Embedding, Dropout, BatchNormalization, Activation, Bidirectional\n",
        "from keras.layers.merge import concatenate\n",
        "from keras.layers.normalization import BatchNormalization\n",
        "from keras.preprocessing.text import text_to_word_sequence, Tokenizer\n",
        "from keras.preprocessing.sequence import pad_sequences\n",
        "\n",
        "import matplotlib as mpl\n",
        "%matplotlib inline\n",
        "from matplotlib import pyplot as plt\n",
        "from keras.utils import plot_model \n",
        "from IPython.display import Image\n",
        "# import pydot\n",
        "from sklearn.preprocessing import LabelEncoder\n",
        "from keras.utils import np_utils\n",
        "import tensorflow as tf\n",
        "\n",
        "\n",
        "from nltk.corpus import stopwords\n",
        "from nltk.stem import SnowballStemmer\n",
        "\n",
        "from string import punctuation\n",
        "\n",
        "from keras import backend as K\n",
        "from keras.engine.topology import Layer\n",
        "#from keras import initializations\n",
        "from keras import initializers, regularizers, constraints"
      ],
      "execution_count": null,
      "outputs": []
    },
    {
      "cell_type": "markdown",
      "metadata": {
        "id": "erOETDPzTMgT",
        "colab_type": "text"
      },
      "source": [
        "## DATASET Function from Baseline model"
      ]
    },
    {
      "cell_type": "code",
      "metadata": {
        "id": "2VKhsu5O8YfY",
        "colab_type": "code",
        "colab": {}
      },
      "source": [
        "from csv import DictReader\n",
        "class DataSet():\n",
        "    def __init__(self, name=\"train\", path=\"./data\"):\n",
        "        self.path = path\n",
        "\n",
        "        print(\"Reading dataset\")\n",
        "        bodies = name+\"_bodies.csv\"\n",
        "        stances = name+\"_stances.csv\"\n",
        "\n",
        "        self.stances = self.read(stances)\n",
        "        articles = self.read(bodies)\n",
        "        self.articles = dict()\n",
        "\n",
        "        #make the body ID an integer value\n",
        "        for s in self.stances:\n",
        "            s['Body ID'] = int(s['Body ID'])\n",
        "\n",
        "        #copy all bodies into a dictionary\n",
        "        for article in articles:\n",
        "            self.articles[int(article['Body ID'])] = article['articleBody']\n",
        "\n",
        "        print(\"Total stances: \" + str(len(self.stances)))\n",
        "        print(\"Total bodies: \" + str(len(self.articles)))\n",
        "\n",
        "\n",
        "\n",
        "    def read(self,filename):\n",
        "        rows = []\n",
        "        with open(self.path + \"/\" + filename, \"r\", encoding='utf-8') as table:\n",
        "            r = DictReader(table)\n",
        "\n",
        "            for line in r:\n",
        "                rows.append(line)\n",
        "        return rows\n"
      ],
      "execution_count": null,
      "outputs": []
    },
    {
      "cell_type": "code",
      "metadata": {
        "id": "Vz1lH8o38Yhy",
        "colab_type": "code",
        "colab": {
          "base_uri": "https://localhost:8080/",
          "height": 139
        },
        "outputId": "8bc8d312-0867-4744-ce4a-db49a2572f52"
      },
      "source": [
        "# from utils.dataset import DataSet\n",
        "from keras.preprocessing.text import Tokenizer\n",
        "from keras.preprocessing.sequence import pad_sequences\n",
        "from keras.layers import Embedding,LSTM, Dense\n",
        "from keras.models import Sequential\n",
        "import re\n",
        "import csv\n",
        "import nltk\n",
        "\n",
        "nltk.download('punkt')\n",
        "nltk.download('wordnet')\n",
        "\n",
        "\n",
        "\n",
        "def generate_features(stances,dataset):\n",
        "    h, b, y = [],[],[]\n",
        "    LABELS = ['agree', 'disagree', 'discuss', 'unrelated']\n",
        "    for stance in stances:\n",
        "\n",
        "        # print(stance['Stance'])\n",
        "        y.append(LABELS.index(stance['Stance']))\n",
        "        h.append(stance['Headline'])\n",
        "        b.append(dataset.articles[stance['Body ID']])\n",
        "   \n",
        "\n",
        "    return(h,b,y)\n",
        "\n",
        "d=DataSet()\n",
        "h,b,y= generate_features(d.stances,d)\n",
        "\n",
        "combined_list = [list(x) for x in zip(h, b,y)]\n",
        "\n",
        "\n",
        "\n",
        "combine_df_train=pd.DataFrame(combined_list,columns = [\"Headline\",\"articleBody\",\"Stances\"])\n",
        "combine_df_train.to_csv(\"./data/combined_list_1.csv\")\n",
        "\n",
        "\n"
      ],
      "execution_count": null,
      "outputs": [
        {
          "output_type": "stream",
          "text": [
            "[nltk_data] Downloading package punkt to /root/nltk_data...\n",
            "[nltk_data]   Unzipping tokenizers/punkt.zip.\n",
            "[nltk_data] Downloading package wordnet to /root/nltk_data...\n",
            "[nltk_data]   Unzipping corpora/wordnet.zip.\n",
            "Reading dataset\n",
            "Total stances: 49972\n",
            "Total bodies: 1683\n"
          ],
          "name": "stdout"
        }
      ]
    },
    {
      "cell_type": "code",
      "metadata": {
        "id": "XZfYFfGb4K0L",
        "colab_type": "code",
        "colab": {
          "base_uri": "https://localhost:8080/",
          "height": 69
        },
        "outputId": "fca466cb-328a-444b-8e1e-09700d5a7f57"
      },
      "source": [
        "competition_dataset = DataSet(\"competition_test\")\n",
        "h_test,b_test,y_test= generate_features(competition_dataset.stances,competition_dataset)\n",
        "\n",
        "combined_list_test = [list(x_test) for x_test in zip(h_test, b_test, y_test)]\n",
        "\n",
        "combine_df_test=pd.DataFrame(combined_list_test,columns = [\"Headline\",\"articleBody\",\"Stances\"])\n",
        "combine_df_test.to_csv(\"./data/combined_list_test.csv\")\n"
      ],
      "execution_count": null,
      "outputs": [
        {
          "output_type": "stream",
          "text": [
            "Reading dataset\n",
            "Total stances: 25413\n",
            "Total bodies: 904\n"
          ],
          "name": "stdout"
        }
      ]
    },
    {
      "cell_type": "markdown",
      "metadata": {
        "id": "hhRgk47jTdKb",
        "colab_type": "text"
      },
      "source": [
        "## PREPROCESSING"
      ]
    },
    {
      "cell_type": "code",
      "metadata": {
        "id": "t7ILKt-a8YkY",
        "colab_type": "code",
        "colab": {}
      },
      "source": [
        "# Pre-processing involves removal of puctuations and converting text to lower case\n",
        "word_seq_head_train = [text_to_word_sequence(head) for head in combine_df_train['Headline']]\n",
        "word_seq_bodies_train = [text_to_word_sequence(body) for body in combine_df_train['articleBody']]\n",
        "word_seq_head_test = [text_to_word_sequence(head) for head in combine_df_test['Headline']]\n",
        "word_seq_bodies_test = [text_to_word_sequence(body) for body in combine_df_test['articleBody']]"
      ],
      "execution_count": null,
      "outputs": []
    },
    {
      "cell_type": "code",
      "metadata": {
        "id": "hrBuzrwr8YmY",
        "colab_type": "code",
        "colab": {}
      },
      "source": [
        "word_seq = []\n",
        "for i in range(len(word_seq_head_train)):\n",
        "    word_seq.append(word_seq_head_train[i])\n",
        "for i in range(len(word_seq_bodies_train)):\n",
        "    word_seq.append(word_seq_bodies_train[i])\n",
        "\n",
        "# word_seq_test_1 = []\n",
        "for i in range(len(word_seq_head_test)):\n",
        "    word_seq.append(word_seq_head_test[i])\n",
        "for i in range(len(word_seq_bodies_test)):\n",
        "    word_seq.append(word_seq_bodies_test[i])"
      ],
      "execution_count": null,
      "outputs": []
    },
    {
      "cell_type": "code",
      "metadata": {
        "id": "t3kidwOm9UPM",
        "colab_type": "code",
        "colab": {}
      },
      "source": [
        "MAX_SENT_LEN = 150 \n",
        "MAX_VOCAB_SIZE = 40000 \n",
        "LSTM_DIM = 100\n",
        "EMBEDDING_DIM=768 #Embedding Dim for bert\n",
        "BATCH_SIZE = 128\n",
        "N_EPOCHS = 50"
      ],
      "execution_count": null,
      "outputs": []
    },
    {
      "cell_type": "code",
      "metadata": {
        "id": "Ua-7_U2U8nmh",
        "colab_type": "code",
        "colab": {
          "base_uri": "https://localhost:8080/",
          "height": 34
        },
        "outputId": "f992b840-7354-43d8-e159-86bf29704d82"
      },
      "source": [
        "filter_list = '!\"\\'#$%&()*+,-./:;<=>?@[\\\\]^_`{|}~\\t\\n'\n",
        "\n",
        "tokenizer = Tokenizer(num_words=MAX_VOCAB_SIZE, filters=filter_list)\n",
        "tokenizer.fit_on_texts([seq for seq in word_seq])\n",
        "#because it only includes unique words(tokens)\n",
        "\n",
        "print(\"Number of words in vocabulary:\", len(tokenizer.word_index))"
      ],
      "execution_count": null,
      "outputs": [
        {
          "output_type": "stream",
          "text": [
            "Number of words in vocabulary: 35978\n"
          ],
          "name": "stdout"
        }
      ]
    },
    {
      "cell_type": "code",
      "metadata": {
        "id": "wkDrhTW68npN",
        "colab_type": "code",
        "colab": {}
      },
      "source": [
        "# Combine headline and body together\n",
        "word_seq_train = [list(i) for i in word_seq_head_train]\n",
        "for i in range(len(word_seq_head_train)):\n",
        "    word_seq_train[i].extend(word_seq_bodies_train[i]) \n",
        "    \n",
        "word_seq_test = [list(i) for i in word_seq_head_test]\n",
        "for i in range(len(word_seq_head_test)):\n",
        "    word_seq_test[i].extend(word_seq_bodies_test[i])"
      ],
      "execution_count": null,
      "outputs": []
    },
    {
      "cell_type": "code",
      "metadata": {
        "id": "GEvJgkgs8nru",
        "colab_type": "code",
        "colab": {}
      },
      "source": [
        "# Shorten the sentence to a fixed length and Convert the sequence of words to sequnce of indices\n",
        "X_train = tokenizer.texts_to_sequences([' '.join(seq[:MAX_SENT_LEN]) for seq in word_seq_train])\n",
        "X_train = pad_sequences(X_train, maxlen=MAX_SENT_LEN, padding='post', truncating='post')\n",
        "y_train = combine_df_train['Stances']\n"
      ],
      "execution_count": null,
      "outputs": []
    },
    {
      "cell_type": "code",
      "metadata": {
        "id": "QRM5_v_q4c5r",
        "colab_type": "code",
        "colab": {}
      },
      "source": [
        "X_test = tokenizer.texts_to_sequences([' '.join(seq[:MAX_SENT_LEN]) for seq in word_seq_test])\n",
        "X_test = pad_sequences(X_test, maxlen=MAX_SENT_LEN, padding='post', truncating='post')\n",
        "y_test_1 = combine_df_test['Stances']\n",
        "\n",
        "y_train = np_utils.to_categorical(y_train)\n",
        "y_test = np_utils.to_categorical(y_test_1)"
      ],
      "execution_count": null,
      "outputs": []
    },
    {
      "cell_type": "markdown",
      "metadata": {
        "id": "aYZ9_6qC4cGL",
        "colab_type": "text"
      },
      "source": [
        ""
      ]
    },
    {
      "cell_type": "code",
      "metadata": {
        "id": "zs6wpe378nt_",
        "colab_type": "code",
        "colab": {}
      },
      "source": [
        "# # Encode class values as integers\n",
        "# encoder_train = LabelEncoder()\n",
        "# encoder_train.fit(y_train)\n",
        "# encoded_train = encoder_train.transform(y_train)\n",
        "# # convert integers to dummy variables (i.e. one hot encoded)\n",
        "# dummy_y_train = np_utils.to_categorical(encoded_train)\n"
      ],
      "execution_count": null,
      "outputs": []
    },
    {
      "cell_type": "code",
      "metadata": {
        "id": "d9l6PCIr1Nnj",
        "colab_type": "code",
        "colab": {}
      },
      "source": [
        "X_train, y_train,X_vali, y_vali = train_test_split(X_train,y_train,random_state=42)"
      ],
      "execution_count": null,
      "outputs": []
    },
    {
      "cell_type": "markdown",
      "metadata": {
        "id": "8vsVPrKT1xo0",
        "colab_type": "text"
      },
      "source": [
        "## EMBEDDING MATRIX From Bert"
      ]
    },
    {
      "cell_type": "code",
      "metadata": {
        "id": "Brs3TH3O8nyC",
        "colab_type": "code",
        "colab": {}
      },
      "source": [
        "embeddings_matrix = np.random.uniform(-0.05, 0.05, size=(len(tokenizer.word_index)+1, EMBEDDING_DIM)) # +1 is because the matrix indices start with 0\n",
        "for word, i in tokenizer.word_index.items(): # i=0 is the embedding for the zero padding\n",
        "    try:\n",
        "        embeddings=nlp(word)\n",
        "        embeddings_vector = embeddings.vector\n",
        "    except:\n",
        "        embeddings_vector = None\n",
        "        #none: if words in sentence don't have pre-trained corresponding embedding, then error occurs\n",
        "\n",
        "    if embeddings_vector is not None:\n",
        "        embeddings_matrix[i] = embeddings_vector\n",
        "        #if pre-trained word embedding exists，then let embeddings_matrix[i] is this embedding\n",
        "        #Wi:the ith row of embeddings_matrix\n",
        "        \n",
        "# del embeddings"
      ],
      "execution_count": null,
      "outputs": []
    },
    {
      "cell_type": "markdown",
      "metadata": {
        "id": "DTrcbK5k14hI",
        "colab_type": "text"
      },
      "source": [
        "## MODEL"
      ]
    },
    {
      "cell_type": "code",
      "metadata": {
        "id": "XzXisSYjAA4Q",
        "colab_type": "code",
        "colab": {}
      },
      "source": [
        "# Build a sequential model by stacking neural net units \n",
        "model_1 = Sequential()\n",
        "model_1.add(Embedding(input_dim=len(tokenizer.word_index)+1,\n",
        "                          output_dim=EMBEDDING_DIM,\n",
        "                          weights = [embeddings_matrix], trainable=True, name='word_embedding_layer', #False\n",
        "                          mask_zero=True))\n",
        "\n",
        "model_1.add(Bidirectional(LSTM(LSTM_DIM, return_sequences=False, name='Bidrectional_lstm_layer1')))\n",
        "model_1.add(Dropout(rate=0.8, name='dropout_1')) \n",
        "model_1.add(Dense(4, activation='softmax', name='output_layer'))"
      ],
      "execution_count": null,
      "outputs": []
    },
    {
      "cell_type": "code",
      "metadata": {
        "id": "Vs_DmB0YAA6d",
        "colab_type": "code",
        "colab": {}
      },
      "source": [
        "filepath=\"/content/drive/My Drive/MSCI_641_project/best_model_3.hdf5\"\n",
        "checkpoint = callbacks.ModelCheckpoint(filepath, \n",
        "                                       monitor='val_accuracy', \n",
        "                                       verbose=1,mode='max', \n",
        "                                       save_best_only=True)\n",
        "\n",
        "callbacks_list1 = [checkpoint]"
      ],
      "execution_count": null,
      "outputs": []
    },
    {
      "cell_type": "code",
      "metadata": {
        "id": "hK8Z3_LgABDg",
        "colab_type": "code",
        "colab": {}
      },
      "source": [
        "#before trainning model, we need to compile it used adam optimizer\n",
        "model_1.compile(loss='categorical_crossentropy',\n",
        "              optimizer='adam',\n",
        "              metrics=['accuracy'])"
      ],
      "execution_count": null,
      "outputs": []
    },
    {
      "cell_type": "code",
      "metadata": {
        "id": "MYKIutwDABF3",
        "colab_type": "code",
        "colab": {
          "base_uri": "https://localhost:8080/",
          "height": 1000
        },
        "outputId": "5647a902-07eb-4297-9741-03610c7269e9"
      },
      "source": [
        "#%%capture history\n",
        "#using different emedding pretrained dataset\n",
        "history_3 = model_1.fit(X_train, y_train,\n",
        "          batch_size=BATCH_SIZE,\n",
        "          epochs=50,\n",
        "          validation_data=(X_vali, y_vali),callbacks = callbacks_list1)"
      ],
      "execution_count": null,
      "outputs": [
        {
          "output_type": "stream",
          "text": [
            "/usr/local/lib/python3.6/dist-packages/tensorflow/python/framework/indexed_slices.py:434: UserWarning: Converting sparse IndexedSlices to a dense Tensor of unknown shape. This may consume a large amount of memory.\n",
            "  \"Converting sparse IndexedSlices to a dense Tensor of unknown shape. \"\n"
          ],
          "name": "stderr"
        },
        {
          "output_type": "stream",
          "text": [
            "Train on 44974 samples, validate on 4998 samples\n",
            "Epoch 1/50\n",
            "44974/44974 [==============================] - 243s 5ms/step - loss: 0.8274 - accuracy: 0.7283 - val_loss: 0.7706 - val_accuracy: 0.7291\n",
            "\n",
            "Epoch 00001: val_accuracy improved from -inf to 0.72909, saving model to /content/drive/My Drive/MSCI_641_project/best_model_3.hdf5\n",
            "Epoch 2/50\n",
            "44974/44974 [==============================] - 240s 5ms/step - loss: 0.7774 - accuracy: 0.7314 - val_loss: 0.7369 - val_accuracy: 0.7291\n",
            "\n",
            "Epoch 00002: val_accuracy did not improve from 0.72909\n",
            "Epoch 3/50\n",
            "44974/44974 [==============================] - 239s 5ms/step - loss: 0.7309 - accuracy: 0.7322 - val_loss: 0.6916 - val_accuracy: 0.7301\n",
            "\n",
            "Epoch 00003: val_accuracy improved from 0.72909 to 0.73009, saving model to /content/drive/My Drive/MSCI_641_project/best_model_3.hdf5\n",
            "Epoch 4/50\n",
            "44974/44974 [==============================] - 238s 5ms/step - loss: 0.6718 - accuracy: 0.7405 - val_loss: 0.6430 - val_accuracy: 0.7395\n",
            "\n",
            "Epoch 00004: val_accuracy improved from 0.73009 to 0.73950, saving model to /content/drive/My Drive/MSCI_641_project/best_model_3.hdf5\n",
            "Epoch 5/50\n",
            "44974/44974 [==============================] - 237s 5ms/step - loss: 0.6125 - accuracy: 0.7564 - val_loss: 0.6122 - val_accuracy: 0.7651\n",
            "\n",
            "Epoch 00005: val_accuracy improved from 0.73950 to 0.76511, saving model to /content/drive/My Drive/MSCI_641_project/best_model_3.hdf5\n",
            "Epoch 6/50\n",
            "44974/44974 [==============================] - 237s 5ms/step - loss: 0.5624 - accuracy: 0.7752 - val_loss: 0.5546 - val_accuracy: 0.7817\n",
            "\n",
            "Epoch 00006: val_accuracy improved from 0.76511 to 0.78171, saving model to /content/drive/My Drive/MSCI_641_project/best_model_3.hdf5\n",
            "Epoch 7/50\n",
            "44974/44974 [==============================] - 237s 5ms/step - loss: 0.5232 - accuracy: 0.7945 - val_loss: 0.5440 - val_accuracy: 0.7959\n",
            "\n",
            "Epoch 00007: val_accuracy improved from 0.78171 to 0.79592, saving model to /content/drive/My Drive/MSCI_641_project/best_model_3.hdf5\n",
            "Epoch 8/50\n",
            "44974/44974 [==============================] - 237s 5ms/step - loss: 0.4926 - accuracy: 0.8062 - val_loss: 0.5078 - val_accuracy: 0.8073\n",
            "\n",
            "Epoch 00008: val_accuracy improved from 0.79592 to 0.80732, saving model to /content/drive/My Drive/MSCI_641_project/best_model_3.hdf5\n",
            "Epoch 9/50\n",
            "44974/44974 [==============================] - 237s 5ms/step - loss: 0.4660 - accuracy: 0.8202 - val_loss: 0.4966 - val_accuracy: 0.8155\n",
            "\n",
            "Epoch 00009: val_accuracy improved from 0.80732 to 0.81553, saving model to /content/drive/My Drive/MSCI_641_project/best_model_3.hdf5\n",
            "Epoch 10/50\n",
            "44974/44974 [==============================] - 238s 5ms/step - loss: 0.4547 - accuracy: 0.8247 - val_loss: 0.4929 - val_accuracy: 0.8123\n",
            "\n",
            "Epoch 00010: val_accuracy did not improve from 0.81553\n",
            "Epoch 11/50\n",
            "44974/44974 [==============================] - 238s 5ms/step - loss: 0.4361 - accuracy: 0.8288 - val_loss: 0.4763 - val_accuracy: 0.8211\n",
            "\n",
            "Epoch 00011: val_accuracy improved from 0.81553 to 0.82113, saving model to /content/drive/My Drive/MSCI_641_project/best_model_3.hdf5\n",
            "Epoch 12/50\n",
            "44974/44974 [==============================] - 238s 5ms/step - loss: 0.4208 - accuracy: 0.8349 - val_loss: 0.4764 - val_accuracy: 0.8221\n",
            "\n",
            "Epoch 00012: val_accuracy improved from 0.82113 to 0.82213, saving model to /content/drive/My Drive/MSCI_641_project/best_model_3.hdf5\n",
            "Epoch 13/50\n",
            "44974/44974 [==============================] - 237s 5ms/step - loss: 0.4066 - accuracy: 0.8378 - val_loss: 0.4791 - val_accuracy: 0.8249\n",
            "\n",
            "Epoch 00013: val_accuracy improved from 0.82213 to 0.82493, saving model to /content/drive/My Drive/MSCI_641_project/best_model_3.hdf5\n",
            "Epoch 14/50\n",
            "44974/44974 [==============================] - 237s 5ms/step - loss: 0.3934 - accuracy: 0.8404 - val_loss: 0.4738 - val_accuracy: 0.8267\n",
            "\n",
            "Epoch 00014: val_accuracy improved from 0.82493 to 0.82673, saving model to /content/drive/My Drive/MSCI_641_project/best_model_3.hdf5\n",
            "Epoch 15/50\n",
            "44974/44974 [==============================] - 238s 5ms/step - loss: 0.3839 - accuracy: 0.8451 - val_loss: 0.4737 - val_accuracy: 0.8249\n",
            "\n",
            "Epoch 00015: val_accuracy did not improve from 0.82673\n",
            "Epoch 16/50\n",
            "44974/44974 [==============================] - 238s 5ms/step - loss: 0.3794 - accuracy: 0.8451 - val_loss: 0.4832 - val_accuracy: 0.8271\n",
            "\n",
            "Epoch 00016: val_accuracy improved from 0.82673 to 0.82713, saving model to /content/drive/My Drive/MSCI_641_project/best_model_3.hdf5\n",
            "Epoch 17/50\n",
            "44974/44974 [==============================] - 239s 5ms/step - loss: 0.3740 - accuracy: 0.8477 - val_loss: 0.4883 - val_accuracy: 0.8275\n",
            "\n",
            "Epoch 00017: val_accuracy improved from 0.82713 to 0.82753, saving model to /content/drive/My Drive/MSCI_641_project/best_model_3.hdf5\n",
            "Epoch 18/50\n",
            "44974/44974 [==============================] - 238s 5ms/step - loss: 0.3693 - accuracy: 0.8478 - val_loss: 0.4765 - val_accuracy: 0.8263\n",
            "\n",
            "Epoch 00018: val_accuracy did not improve from 0.82753\n",
            "Epoch 19/50\n",
            "44974/44974 [==============================] - 237s 5ms/step - loss: 0.3673 - accuracy: 0.8504 - val_loss: 0.4813 - val_accuracy: 0.8239\n",
            "\n",
            "Epoch 00019: val_accuracy did not improve from 0.82753\n",
            "Epoch 20/50\n",
            "44974/44974 [==============================] - 240s 5ms/step - loss: 0.3617 - accuracy: 0.8512 - val_loss: 0.5012 - val_accuracy: 0.8237\n",
            "\n",
            "Epoch 00020: val_accuracy did not improve from 0.82753\n",
            "Epoch 21/50\n",
            "44974/44974 [==============================] - 238s 5ms/step - loss: 0.3519 - accuracy: 0.8526 - val_loss: 0.4911 - val_accuracy: 0.8301\n",
            "\n",
            "Epoch 00021: val_accuracy improved from 0.82753 to 0.83013, saving model to /content/drive/My Drive/MSCI_641_project/best_model_3.hdf5\n",
            "Epoch 22/50\n",
            "44974/44974 [==============================] - 237s 5ms/step - loss: 0.3578 - accuracy: 0.8518 - val_loss: 0.5124 - val_accuracy: 0.8239\n",
            "\n",
            "Epoch 00022: val_accuracy did not improve from 0.83013\n",
            "Epoch 23/50\n",
            "44974/44974 [==============================] - 237s 5ms/step - loss: 0.3544 - accuracy: 0.8534 - val_loss: 0.5048 - val_accuracy: 0.8297\n",
            "\n",
            "Epoch 00023: val_accuracy did not improve from 0.83013\n",
            "Epoch 24/50\n",
            "44974/44974 [==============================] - 237s 5ms/step - loss: 0.3456 - accuracy: 0.8555 - val_loss: 0.5293 - val_accuracy: 0.8283\n",
            "\n",
            "Epoch 00024: val_accuracy did not improve from 0.83013\n",
            "Epoch 25/50\n",
            "44974/44974 [==============================] - 237s 5ms/step - loss: 0.3490 - accuracy: 0.8540 - val_loss: 0.5072 - val_accuracy: 0.8229\n",
            "\n",
            "Epoch 00025: val_accuracy did not improve from 0.83013\n",
            "Epoch 26/50\n",
            "44974/44974 [==============================] - 237s 5ms/step - loss: 0.3396 - accuracy: 0.8584 - val_loss: 0.5115 - val_accuracy: 0.8327\n",
            "\n",
            "Epoch 00026: val_accuracy improved from 0.83013 to 0.83273, saving model to /content/drive/My Drive/MSCI_641_project/best_model_3.hdf5\n",
            "Epoch 27/50\n",
            "44974/44974 [==============================] - 236s 5ms/step - loss: 0.3456 - accuracy: 0.8556 - val_loss: 0.5115 - val_accuracy: 0.8301\n",
            "\n",
            "Epoch 00027: val_accuracy did not improve from 0.83273\n",
            "Epoch 28/50\n",
            "44974/44974 [==============================] - 236s 5ms/step - loss: 0.3322 - accuracy: 0.8609 - val_loss: 0.5147 - val_accuracy: 0.8287\n",
            "\n",
            "Epoch 00028: val_accuracy did not improve from 0.83273\n",
            "Epoch 29/50\n",
            "44974/44974 [==============================] - 237s 5ms/step - loss: 0.3429 - accuracy: 0.8581 - val_loss: 0.5286 - val_accuracy: 0.8289\n",
            "\n",
            "Epoch 00029: val_accuracy did not improve from 0.83273\n",
            "Epoch 30/50\n",
            "44974/44974 [==============================] - 237s 5ms/step - loss: 0.3276 - accuracy: 0.8595 - val_loss: 0.5430 - val_accuracy: 0.8335\n",
            "\n",
            "Epoch 00030: val_accuracy improved from 0.83273 to 0.83353, saving model to /content/drive/My Drive/MSCI_641_project/best_model_3.hdf5\n",
            "Epoch 31/50\n",
            "44974/44974 [==============================] - 239s 5ms/step - loss: 0.3189 - accuracy: 0.8635 - val_loss: 0.5145 - val_accuracy: 0.8297\n",
            "\n",
            "Epoch 00031: val_accuracy did not improve from 0.83353\n",
            "Epoch 32/50\n",
            "44974/44974 [==============================] - 239s 5ms/step - loss: 0.3174 - accuracy: 0.8652 - val_loss: 0.5318 - val_accuracy: 0.8315\n",
            "\n",
            "Epoch 00032: val_accuracy did not improve from 0.83353\n",
            "Epoch 33/50\n",
            "44974/44974 [==============================] - 240s 5ms/step - loss: 0.3150 - accuracy: 0.8639 - val_loss: 0.5217 - val_accuracy: 0.8311\n",
            "\n",
            "Epoch 00033: val_accuracy did not improve from 0.83353\n",
            "Epoch 34/50\n",
            "44974/44974 [==============================] - 236s 5ms/step - loss: 0.3212 - accuracy: 0.8638 - val_loss: 0.5279 - val_accuracy: 0.8307\n",
            "\n",
            "Epoch 00034: val_accuracy did not improve from 0.83353\n",
            "Epoch 35/50\n",
            "44974/44974 [==============================] - 236s 5ms/step - loss: 0.3106 - accuracy: 0.8652 - val_loss: 0.5368 - val_accuracy: 0.8299\n",
            "\n",
            "Epoch 00035: val_accuracy did not improve from 0.83353\n",
            "Epoch 36/50\n",
            "44974/44974 [==============================] - 237s 5ms/step - loss: 0.3049 - accuracy: 0.8694 - val_loss: 0.5248 - val_accuracy: 0.8299\n",
            "\n",
            "Epoch 00036: val_accuracy did not improve from 0.83353\n",
            "Epoch 37/50\n",
            "44974/44974 [==============================] - 237s 5ms/step - loss: 0.3162 - accuracy: 0.8653 - val_loss: 0.5323 - val_accuracy: 0.8323\n",
            "\n",
            "Epoch 00037: val_accuracy did not improve from 0.83353\n",
            "Epoch 38/50\n",
            "44974/44974 [==============================] - 238s 5ms/step - loss: 0.3003 - accuracy: 0.8688 - val_loss: 0.5470 - val_accuracy: 0.8315\n",
            "\n",
            "Epoch 00038: val_accuracy did not improve from 0.83353\n",
            "Epoch 39/50\n",
            "44974/44974 [==============================] - 240s 5ms/step - loss: 0.2969 - accuracy: 0.8697 - val_loss: 0.5553 - val_accuracy: 0.8369\n",
            "\n",
            "Epoch 00039: val_accuracy improved from 0.83353 to 0.83693, saving model to /content/drive/My Drive/MSCI_641_project/best_model_3.hdf5\n",
            "Epoch 40/50\n",
            "44974/44974 [==============================] - 243s 5ms/step - loss: 0.2982 - accuracy: 0.8717 - val_loss: 0.5537 - val_accuracy: 0.8353\n",
            "\n",
            "Epoch 00040: val_accuracy did not improve from 0.83693\n",
            "Epoch 41/50\n",
            "44974/44974 [==============================] - 244s 5ms/step - loss: 0.2935 - accuracy: 0.8737 - val_loss: 0.5551 - val_accuracy: 0.8311\n",
            "\n",
            "Epoch 00041: val_accuracy did not improve from 0.83693\n",
            "Epoch 42/50\n",
            "44974/44974 [==============================] - 245s 5ms/step - loss: 0.2964 - accuracy: 0.8723 - val_loss: 0.5574 - val_accuracy: 0.8321\n",
            "\n",
            "Epoch 00042: val_accuracy did not improve from 0.83693\n",
            "Epoch 43/50\n",
            "44974/44974 [==============================] - 244s 5ms/step - loss: 0.2899 - accuracy: 0.8733 - val_loss: 0.5505 - val_accuracy: 0.8323\n",
            "\n",
            "Epoch 00043: val_accuracy did not improve from 0.83693\n",
            "Epoch 44/50\n",
            "44974/44974 [==============================] - 245s 5ms/step - loss: 0.2851 - accuracy: 0.8760 - val_loss: 0.5719 - val_accuracy: 0.8347\n",
            "\n",
            "Epoch 00044: val_accuracy did not improve from 0.83693\n",
            "Epoch 45/50\n",
            "44974/44974 [==============================] - 246s 5ms/step - loss: 0.2927 - accuracy: 0.8747 - val_loss: 0.5587 - val_accuracy: 0.8295\n",
            "\n",
            "Epoch 00045: val_accuracy did not improve from 0.83693\n",
            "Epoch 46/50\n",
            "44974/44974 [==============================] - 247s 5ms/step - loss: 0.2833 - accuracy: 0.8753 - val_loss: 0.5461 - val_accuracy: 0.8323\n",
            "\n",
            "Epoch 00046: val_accuracy did not improve from 0.83693\n",
            "Epoch 47/50\n",
            "44974/44974 [==============================] - 249s 6ms/step - loss: 0.2812 - accuracy: 0.8754 - val_loss: 0.5862 - val_accuracy: 0.8315\n",
            "\n",
            "Epoch 00047: val_accuracy did not improve from 0.83693\n",
            "Epoch 48/50\n",
            "44974/44974 [==============================] - 249s 6ms/step - loss: 0.2785 - accuracy: 0.8784 - val_loss: 0.5990 - val_accuracy: 0.8351\n",
            "\n",
            "Epoch 00048: val_accuracy did not improve from 0.83693\n",
            "Epoch 49/50\n",
            "44974/44974 [==============================] - 248s 6ms/step - loss: 0.2759 - accuracy: 0.8786 - val_loss: 0.5948 - val_accuracy: 0.8317\n",
            "\n",
            "Epoch 00049: val_accuracy did not improve from 0.83693\n",
            "Epoch 50/50\n",
            "44974/44974 [==============================] - 249s 6ms/step - loss: 0.2875 - accuracy: 0.8761 - val_loss: 0.5740 - val_accuracy: 0.8347\n",
            "\n",
            "Epoch 00050: val_accuracy did not improve from 0.83693\n"
          ],
          "name": "stdout"
        }
      ]
    },
    {
      "cell_type": "code",
      "metadata": {
        "id": "RXaW2SJ7qhds",
        "colab_type": "code",
        "colab": {}
      },
      "source": [
        "import pickle\n",
        "\n",
        "\n",
        "with open('/content/drive/My Drive/MSCI_641_project/history.pickle', 'wb') as handle:\n",
        "    pickle.dump(history_3, handle, protocol=pickle.HIGHEST_PROTOCOL)\n",
        "\n"
      ],
      "execution_count": null,
      "outputs": []
    },
    {
      "cell_type": "code",
      "metadata": {
        "id": "jiR6_KOIimYk",
        "colab_type": "code",
        "colab": {}
      },
      "source": [
        "def plotLosses(history):  \n",
        "    plt.plot(history.history['loss'])\n",
        "    plt.plot(history.history['val_loss'])\n",
        "    plt.title('BIDIRECTIONAL LSTM + BERT EMBEDDINGS LOSS')\n",
        "    plt.ylabel('Loss')\n",
        "    plt.xlabel('Epoch')\n",
        "    plt.legend(['train', 'validation'], loc='upper left')\n",
        "    plt.show()\n",
        "\n",
        "def plotAccuracy(history):  \n",
        "    plt.plot(history.history['accuracy'])\n",
        "    plt.plot(history.history['val_accuracy'])\n",
        "    plt.title('BIDIRECTIONAL LSTM + BERT EMBEDDINGS ACCURACY')\n",
        "    plt.ylabel('Accuracy')\n",
        "    plt.xlabel('Epoch')\n",
        "    plt.legend(['train', 'validation'], loc='upper left')\n",
        "    plt.show()"
      ],
      "execution_count": null,
      "outputs": []
    },
    {
      "cell_type": "code",
      "metadata": {
        "id": "2w8e_NHRimjI",
        "colab_type": "code",
        "colab": {
          "base_uri": "https://localhost:8080/",
          "height": 573
        },
        "outputId": "bdf774ee-830c-4385-c8df-b7b316dbcfec"
      },
      "source": [
        "plotLosses(history_3)\n",
        "plotAccuracy(history_3)"
      ],
      "execution_count": null,
      "outputs": [
        {
          "output_type": "display_data",
          "data": {
            "image/png": "[encoded data removed]",
            "text/plain": [
              "<Figure size 432x288 with 1 Axes>"
            ]
          },
          "metadata": {
            "tags": [],
            "needs_background": "light"
          }
        },
        {
          "output_type": "display_data",
          "data": {
            "image/png": "[encoded data removed]",
            "text/plain": [
              "<Figure size 432x288 with 1 Axes>"
            ]
          },
          "metadata": {
            "tags": [],
            "needs_background": "light"
          }
        }
      ]
    },
    {
      "cell_type": "code",
      "metadata": {
        "id": "ENRbQSZLimlO",
        "colab_type": "code",
        "colab": {}
      },
      "source": [
        ""
      ],
      "execution_count": null,
      "outputs": []
    },
    {
      "cell_type": "code",
      "metadata": {
        "id": "DETTtsBk4HXx",
        "colab_type": "code",
        "colab": {}
      },
      "source": [
        ""
      ],
      "execution_count": null,
      "outputs": []
    },
    {
      "cell_type": "code",
      "metadata": {
        "id": "mgG8Ggky4HnQ",
        "colab_type": "code",
        "colab": {}
      },
      "source": [
        ""
      ],
      "execution_count": null,
      "outputs": []
    },
    {
      "cell_type": "code",
      "metadata": {
        "id": "FL4DcFA4ABHe",
        "colab_type": "code",
        "colab": {
          "base_uri": "https://localhost:8080/",
          "height": 1000
        },
        "outputId": "67a427a3-b742-478a-8499-d960a2745d68"
      },
      "source": [
        "history_3 = model_1.fit(X_train, y_train,\n",
        "          batch_size=BATCH_SIZE,\n",
        "          initial_epoch=40,\n",
        "          epochs=100,\n",
        "          validation_data=(X_vali, y_vali),callbacks = callbacks_list1)"
      ],
      "execution_count": null,
      "outputs": [
        {
          "output_type": "stream",
          "text": [
            "Train on 44974 samples, validate on 4998 samples\n",
            "Epoch 41/100\n",
            "44974/44974 [==============================] - 379s 8ms/step - loss: 0.2417 - accuracy: 0.8993 - val_loss: 0.4898 - val_accuracy: 0.8557\n",
            "\n",
            "Epoch 00041: val_accuracy improved from 0.85394 to 0.85574, saving model to best_model.hdf5\n",
            "Epoch 42/100\n",
            "44974/44974 [==============================] - 379s 8ms/step - loss: 0.2425 - accuracy: 0.8966 - val_loss: 0.4960 - val_accuracy: 0.8543\n",
            "\n",
            "Epoch 00042: val_accuracy did not improve from 0.85574\n",
            "Epoch 43/100\n",
            "44974/44974 [==============================] - 382s 8ms/step - loss: 0.2316 - accuracy: 0.9016 - val_loss: 0.4889 - val_accuracy: 0.8463\n",
            "\n",
            "Epoch 00043: val_accuracy did not improve from 0.85574\n",
            "Epoch 44/100\n",
            "44974/44974 [==============================] - 386s 9ms/step - loss: 0.2343 - accuracy: 0.9024 - val_loss: 0.6431 - val_accuracy: 0.8349\n",
            "\n",
            "Epoch 00044: val_accuracy did not improve from 0.85574\n",
            "Epoch 45/100\n",
            "44974/44974 [==============================] - 380s 8ms/step - loss: 0.2364 - accuracy: 0.9021 - val_loss: 0.5081 - val_accuracy: 0.8549\n",
            "\n",
            "Epoch 00045: val_accuracy did not improve from 0.85574\n",
            "Epoch 46/100\n",
            "44974/44974 [==============================] - 383s 9ms/step - loss: 0.2305 - accuracy: 0.9048 - val_loss: 0.5312 - val_accuracy: 0.8625\n",
            "\n",
            "Epoch 00046: val_accuracy improved from 0.85574 to 0.86255, saving model to best_model.hdf5\n",
            "Epoch 47/100\n",
            "44974/44974 [==============================] - 384s 9ms/step - loss: 0.2157 - accuracy: 0.9108 - val_loss: 0.5120 - val_accuracy: 0.8543\n",
            "\n",
            "Epoch 00047: val_accuracy did not improve from 0.86255\n",
            "Epoch 48/100\n",
            "44974/44974 [==============================] - 384s 9ms/step - loss: 0.2312 - accuracy: 0.9027 - val_loss: 0.5483 - val_accuracy: 0.8537\n",
            "\n",
            "Epoch 00048: val_accuracy did not improve from 0.86255\n",
            "Epoch 49/100\n",
            "44974/44974 [==============================] - 385s 9ms/step - loss: 0.2114 - accuracy: 0.9119 - val_loss: 0.5488 - val_accuracy: 0.8577\n",
            "\n",
            "Epoch 00049: val_accuracy did not improve from 0.86255\n",
            "Epoch 50/100\n",
            "44974/44974 [==============================] - 381s 8ms/step - loss: 0.2057 - accuracy: 0.9147 - val_loss: 0.5197 - val_accuracy: 0.8605\n",
            "\n",
            "Epoch 00050: val_accuracy did not improve from 0.86255\n",
            "Epoch 51/100\n",
            "44974/44974 [==============================] - 380s 8ms/step - loss: 0.2049 - accuracy: 0.9162 - val_loss: 0.5326 - val_accuracy: 0.8641\n",
            "\n",
            "Epoch 00051: val_accuracy improved from 0.86255 to 0.86415, saving model to best_model.hdf5\n",
            "Epoch 52/100\n",
            "44974/44974 [==============================] - 378s 8ms/step - loss: 0.2063 - accuracy: 0.9155 - val_loss: 0.5120 - val_accuracy: 0.8651\n",
            "\n",
            "Epoch 00052: val_accuracy improved from 0.86415 to 0.86515, saving model to best_model.hdf5\n",
            "Epoch 53/100\n",
            "44974/44974 [==============================] - 378s 8ms/step - loss: 0.2024 - accuracy: 0.9172 - val_loss: 0.5191 - val_accuracy: 0.8611\n",
            "\n",
            "Epoch 00053: val_accuracy did not improve from 0.86515\n",
            "Epoch 54/100\n",
            "44974/44974 [==============================] - 378s 8ms/step - loss: 0.1959 - accuracy: 0.9211 - val_loss: 0.5758 - val_accuracy: 0.8413\n",
            "\n",
            "Epoch 00054: val_accuracy did not improve from 0.86515\n",
            "Epoch 55/100\n",
            "44974/44974 [==============================] - 379s 8ms/step - loss: 0.2117 - accuracy: 0.9149 - val_loss: 0.5557 - val_accuracy: 0.8571\n",
            "\n",
            "Epoch 00055: val_accuracy did not improve from 0.86515\n",
            "Epoch 56/100\n",
            "44974/44974 [==============================] - 379s 8ms/step - loss: 0.1999 - accuracy: 0.9167 - val_loss: 0.5389 - val_accuracy: 0.8645\n",
            "\n",
            "Epoch 00056: val_accuracy did not improve from 0.86515\n",
            "Epoch 57/100\n",
            "44974/44974 [==============================] - 373s 8ms/step - loss: 0.1986 - accuracy: 0.9188 - val_loss: 0.5325 - val_accuracy: 0.8603\n",
            "\n",
            "Epoch 00057: val_accuracy did not improve from 0.86515\n",
            "Epoch 58/100\n",
            "44974/44974 [==============================] - 375s 8ms/step - loss: 0.2006 - accuracy: 0.9174 - val_loss: 0.5664 - val_accuracy: 0.8563\n",
            "\n",
            "Epoch 00058: val_accuracy did not improve from 0.86515\n",
            "Epoch 59/100\n",
            "44974/44974 [==============================] - 386s 9ms/step - loss: 0.1956 - accuracy: 0.9210 - val_loss: 0.5544 - val_accuracy: 0.8603\n",
            "\n",
            "Epoch 00059: val_accuracy did not improve from 0.86515\n",
            "Epoch 60/100\n",
            "44974/44974 [==============================] - 386s 9ms/step - loss: 0.1928 - accuracy: 0.9206 - val_loss: 0.5408 - val_accuracy: 0.8647\n",
            "\n",
            "Epoch 00060: val_accuracy did not improve from 0.86515\n",
            "Epoch 61/100\n",
            "44974/44974 [==============================] - 379s 8ms/step - loss: 0.1909 - accuracy: 0.9232 - val_loss: 0.5607 - val_accuracy: 0.8629\n",
            "\n",
            "Epoch 00061: val_accuracy did not improve from 0.86515\n",
            "Epoch 62/100\n",
            "44974/44974 [==============================] - 371s 8ms/step - loss: 0.1922 - accuracy: 0.9217 - val_loss: 0.5617 - val_accuracy: 0.8637\n",
            "\n",
            "Epoch 00062: val_accuracy did not improve from 0.86515\n",
            "Epoch 63/100\n",
            "44974/44974 [==============================] - 373s 8ms/step - loss: 0.1891 - accuracy: 0.9226 - val_loss: 0.5606 - val_accuracy: 0.8735\n",
            "\n",
            "Epoch 00063: val_accuracy improved from 0.86515 to 0.87355, saving model to best_model.hdf5\n",
            "Epoch 64/100\n",
            "44974/44974 [==============================] - 384s 9ms/step - loss: 0.1719 - accuracy: 0.9290 - val_loss: 0.5487 - val_accuracy: 0.8711\n",
            "\n",
            "Epoch 00064: val_accuracy did not improve from 0.87355\n",
            "Epoch 65/100\n",
            "44974/44974 [==============================] - 387s 9ms/step - loss: 0.1956 - accuracy: 0.9217 - val_loss: 0.5512 - val_accuracy: 0.8631\n",
            "\n",
            "Epoch 00065: val_accuracy did not improve from 0.87355\n",
            "Epoch 66/100\n",
            "44974/44974 [==============================] - 382s 8ms/step - loss: 0.1681 - accuracy: 0.9316 - val_loss: 0.5409 - val_accuracy: 0.8665\n",
            "\n",
            "Epoch 00066: val_accuracy did not improve from 0.87355\n",
            "Epoch 67/100\n",
            "44974/44974 [==============================] - 381s 8ms/step - loss: 0.1659 - accuracy: 0.9310 - val_loss: 0.5530 - val_accuracy: 0.8605\n",
            "\n",
            "Epoch 00067: val_accuracy did not improve from 0.87355\n",
            "Epoch 68/100\n",
            "44974/44974 [==============================] - 377s 8ms/step - loss: 0.1657 - accuracy: 0.9332 - val_loss: 0.5810 - val_accuracy: 0.8733\n",
            "\n",
            "Epoch 00068: val_accuracy did not improve from 0.87355\n",
            "Epoch 69/100\n",
            "44974/44974 [==============================] - 378s 8ms/step - loss: 0.1689 - accuracy: 0.9302 - val_loss: 0.5853 - val_accuracy: 0.8727\n",
            "\n",
            "Epoch 00069: val_accuracy did not improve from 0.87355\n",
            "Epoch 70/100\n",
            "44974/44974 [==============================] - 383s 9ms/step - loss: 0.1646 - accuracy: 0.9323 - val_loss: 0.5557 - val_accuracy: 0.8727\n",
            "\n",
            "Epoch 00070: val_accuracy did not improve from 0.87355\n",
            "Epoch 71/100\n",
            "44974/44974 [==============================] - 382s 8ms/step - loss: 0.1593 - accuracy: 0.9343 - val_loss: 0.5441 - val_accuracy: 0.8723\n",
            "\n",
            "Epoch 00071: val_accuracy did not improve from 0.87355\n",
            "Epoch 72/100\n",
            "44974/44974 [==============================] - 382s 8ms/step - loss: 0.1751 - accuracy: 0.9294 - val_loss: 0.6082 - val_accuracy: 0.8764\n",
            "\n",
            "Epoch 00072: val_accuracy improved from 0.87355 to 0.87635, saving model to best_model.hdf5\n",
            "Epoch 73/100\n",
            "44974/44974 [==============================] - 384s 9ms/step - loss: 0.1667 - accuracy: 0.9335 - val_loss: 0.6078 - val_accuracy: 0.8693\n",
            "\n",
            "Epoch 00073: val_accuracy did not improve from 0.87635\n",
            "Epoch 74/100\n",
            "44974/44974 [==============================] - 383s 9ms/step - loss: 0.1755 - accuracy: 0.9291 - val_loss: 0.5753 - val_accuracy: 0.8665\n",
            "\n",
            "Epoch 00074: val_accuracy did not improve from 0.87635\n",
            "Epoch 75/100\n",
            "44974/44974 [==============================] - 386s 9ms/step - loss: 0.1602 - accuracy: 0.9351 - val_loss: 0.5718 - val_accuracy: 0.8729\n",
            "\n",
            "Epoch 00075: val_accuracy did not improve from 0.87635\n",
            "Epoch 76/100\n",
            "44974/44974 [==============================] - 384s 9ms/step - loss: 0.1618 - accuracy: 0.9340 - val_loss: 0.6117 - val_accuracy: 0.8693\n",
            "\n",
            "Epoch 00076: val_accuracy did not improve from 0.87635\n",
            "Epoch 77/100\n",
            "44974/44974 [==============================] - 379s 8ms/step - loss: 0.1570 - accuracy: 0.9355 - val_loss: 0.5923 - val_accuracy: 0.8657\n",
            "\n",
            "Epoch 00077: val_accuracy did not improve from 0.87635\n",
            "Epoch 78/100\n",
            "44974/44974 [==============================] - 384s 9ms/step - loss: 0.1519 - accuracy: 0.9401 - val_loss: 0.5430 - val_accuracy: 0.8689\n",
            "\n",
            "Epoch 00078: val_accuracy did not improve from 0.87635\n",
            "Epoch 79/100\n",
            "44974/44974 [==============================] - 383s 9ms/step - loss: 0.1743 - accuracy: 0.9302 - val_loss: 0.6376 - val_accuracy: 0.8749\n",
            "\n",
            "Epoch 00079: val_accuracy did not improve from 0.87635\n",
            "Epoch 80/100\n",
            "44974/44974 [==============================] - 385s 9ms/step - loss: 0.1791 - accuracy: 0.9315 - val_loss: 0.5085 - val_accuracy: 0.8513\n",
            "\n",
            "Epoch 00080: val_accuracy did not improve from 0.87635\n",
            "Epoch 81/100\n",
            "44974/44974 [==============================] - 382s 8ms/step - loss: 0.1651 - accuracy: 0.9340 - val_loss: 0.5741 - val_accuracy: 0.8705\n",
            "\n",
            "Epoch 00081: val_accuracy did not improve from 0.87635\n",
            "Epoch 82/100\n",
            "44974/44974 [==============================] - 388s 9ms/step - loss: 0.1505 - accuracy: 0.9402 - val_loss: 0.5484 - val_accuracy: 0.8697\n",
            "\n",
            "Epoch 00082: val_accuracy did not improve from 0.87635\n",
            "Epoch 83/100\n",
            "44974/44974 [==============================] - 388s 9ms/step - loss: 0.1500 - accuracy: 0.9397 - val_loss: 0.5842 - val_accuracy: 0.8689\n",
            "\n",
            "Epoch 00083: val_accuracy did not improve from 0.87635\n",
            "Epoch 84/100\n",
            "17536/44974 [==========>...................] - ETA: 3:53 - loss: 0.1454 - accuracy: 0.9396"
          ],
          "name": "stdout"
        }
      ]
    }
  ]
}